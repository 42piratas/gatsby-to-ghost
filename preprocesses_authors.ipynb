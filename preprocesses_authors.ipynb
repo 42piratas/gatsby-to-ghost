{
 "cells": [
  {
   "cell_type": "code",
   "execution_count": null,
   "id": "7363444f-2660-4b31-8fe6-7729aada7797",
   "metadata": {},
   "outputs": [],
   "source": [
    "import json"
   ]
  },
  {
   "cell_type": "code",
   "execution_count": null,
   "id": "f68cad74-b014-4044-b435-62ffcb1c3cb7",
   "metadata": {},
   "outputs": [],
   "source": [
    "with open('ghost_authors.json', 'r') as json_file:\n",
    "    authors_emails = json.load(json_file)"
   ]
  },
  {
   "cell_type": "code",
   "execution_count": null,
   "id": "d93b9fef-e52e-42a8-b3a1-96876b9cbc52",
   "metadata": {},
   "outputs": [],
   "source": [
    "for i in range(len(authors)):\n",
    "    name = authors[i]\n",
    "    if name in authors_emails:\n",
    "        authors[i] = authors_emails[name]\n",
    "    else:\n",
    "        print(\"ERRORRRRRRR!\")"
   ]
  },
  {
   "cell_type": "code",
   "execution_count": null,
   "id": "3043210f-e6ce-4111-8d41-10c18589cc90",
   "metadata": {},
   "outputs": [],
   "source": []
  }
 ],
 "metadata": {
  "kernelspec": {
   "display_name": "Python 3 (ipykernel)",
   "language": "python",
   "name": "python3"
  },
  "language_info": {
   "codemirror_mode": {
    "name": "ipython",
    "version": 3
   },
   "file_extension": ".py",
   "mimetype": "text/x-python",
   "name": "python",
   "nbconvert_exporter": "python",
   "pygments_lexer": "ipython3",
   "version": "3.11.2"
  }
 },
 "nbformat": 4,
 "nbformat_minor": 5
}
