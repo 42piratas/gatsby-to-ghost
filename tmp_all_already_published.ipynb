{
 "cells": [
  {
   "cell_type": "code",
   "execution_count": null,
   "id": "360d1757-408c-4832-8b0d-d57c039f265b",
   "metadata": {},
   "outputs": [],
   "source": [
    "import requests"
   ]
  },
  {
   "cell_type": "code",
   "execution_count": null,
   "id": "fcf71423-e744-4e8b-bab4-2dd32c37c208",
   "metadata": {},
   "outputs": [],
   "source": [
    "%run generates_ghost_token.ipynb"
   ]
  },
  {
   "cell_type": "code",
   "execution_count": null,
   "id": "22ea3e17-0316-46ee-9b00-07ce702577d7",
   "metadata": {},
   "outputs": [],
   "source": [
    "token = generate_token()"
   ]
  },
  {
   "cell_type": "code",
   "execution_count": null,
   "id": "4ef9d866-8e84-430d-962e-cc449a90daea",
   "metadata": {},
   "outputs": [],
   "source": [
    "with open('secrets.json', 'r') as file:\n",
    "    json_content = json.load(file)\n",
    "    \n",
    "GHOST_API_URL = json_content[\"api_url\"]\n",
    "# API_KEY = json_content[\"key\"]"
   ]
  },
  {
   "cell_type": "code",
   "execution_count": null,
   "id": "aaf6cc0d-259c-4b8b-b850-3ae19d0c2430",
   "metadata": {},
   "outputs": [],
   "source": [
    "headers = { 'Authorization': f'Ghost {token}' }"
   ]
  },
  {
   "cell_type": "code",
   "execution_count": null,
   "id": "29d9cf2f-5027-4d82-a4ee-aca458c0ffe0",
   "metadata": {},
   "outputs": [],
   "source": [
    "response = requests.get(GHOST_API_URL + \"posts/\", headers=headers)\n",
    "\n",
    "if response.status_code == 200:\n",
    "    data = response.json()\n",
    "    post_titles = [post['title'] for post in data['posts']]\n",
    "    post_titles.sort()\n",
    "    for title in post_titles:\n",
    "        print(title)\n",
    "else:\n",
    "    print(f\"API FAIL: {response.status_code}\")"
   ]
  }
 ],
 "metadata": {
  "kernelspec": {
   "display_name": "Python 3 (ipykernel)",
   "language": "python",
   "name": "python3"
  },
  "language_info": {
   "codemirror_mode": {
    "name": "ipython",
    "version": 3
   },
   "file_extension": ".py",
   "mimetype": "text/x-python",
   "name": "python",
   "nbconvert_exporter": "python",
   "pygments_lexer": "ipython3",
   "version": "3.11.2"
  }
 },
 "nbformat": 4,
 "nbformat_minor": 5
}
