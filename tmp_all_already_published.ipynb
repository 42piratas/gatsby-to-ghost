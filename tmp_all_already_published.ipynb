{
 "cells": [
  {
   "cell_type": "code",
   "execution_count": 1,
   "id": "360d1757-408c-4832-8b0d-d57c039f265b",
   "metadata": {},
   "outputs": [],
   "source": [
    "import requests"
   ]
  },
  {
   "cell_type": "code",
   "execution_count": 2,
   "id": "fcf71423-e744-4e8b-bab4-2dd32c37c208",
   "metadata": {},
   "outputs": [],
   "source": [
    "%run generates_ghost_token.ipynb"
   ]
  },
  {
   "cell_type": "code",
   "execution_count": 3,
   "id": "22ea3e17-0316-46ee-9b00-07ce702577d7",
   "metadata": {},
   "outputs": [],
   "source": [
    "token = generate_token()"
   ]
  },
  {
   "cell_type": "code",
   "execution_count": 4,
   "id": "4ef9d866-8e84-430d-962e-cc449a90daea",
   "metadata": {},
   "outputs": [],
   "source": [
    "with open('secrets.json', 'r') as file:\n",
    "    json_content = json.load(file)\n",
    "    \n",
    "GHOST_API_URL = json_content[\"api_url\"]\n",
    "# API_KEY = json_content[\"key\"]"
   ]
  },
  {
   "cell_type": "code",
   "execution_count": 5,
   "id": "aaf6cc0d-259c-4b8b-b850-3ae19d0c2430",
   "metadata": {},
   "outputs": [],
   "source": [
    "headers = { 'Authorization': f'Ghost {token}' }"
   ]
  },
  {
   "cell_type": "code",
   "execution_count": 8,
   "id": "29d9cf2f-5027-4d82-a4ee-aca458c0ffe0",
   "metadata": {},
   "outputs": [
    {
     "name": "stdout",
     "output_type": "stream",
     "text": [
      "AKASHA Conversations #6 — Monster Island and the Ethics of Moderating\n",
      "AKASHA Conversations #7 — Regenerating The Social Fabric Through Play\n",
      "AKASHA Conversations #8 - Communities of Care-full Learning with Andy Tudhope\n",
      "AKASHA Conversations #9 — Web3 needs more UX Researchers and Designers\n",
      "Digitalizing human identity\n",
      "ETH Denver 2023: BUIDLing A Mile-High\n",
      "Hello World\n",
      "Highlights from the AKASHA & UrbeTalk Meetup 🐺\n",
      "Maximum Viable Decentralization\n",
      "Mihai Alisie & Urbe Unplugged: Breaking the Chains of Centralization\n",
      "Reimagining Social Networks: Thinking Beyond The ‘Twitter Box’ (Zuzalu 2023)\n",
      "Taming the Twitterverse: 4 Steps to a Better (Virtual) World\n",
      "The Next Chapter of AKASHA: From World 0 to World 1 ✨🌍✨\n",
      "Who will fix the Internet?\n",
      "Zuzalu & AKASHA: Learning from a Digital Nomad Pop-Up Community in Montenegro\n"
     ]
    }
   ],
   "source": [
    "response = requests.get(GHOST_API_URL + \"posts/\", headers=headers)\n",
    "\n",
    "if response.status_code == 200:\n",
    "    data = response.json()\n",
    "    post_titles = [post['title'] for post in data['posts']]\n",
    "    post_titles.sort()\n",
    "    for title in post_titles:\n",
    "        print(title)\n",
    "else:\n",
    "    print(f\"API FAIL: {response.status_code}\")"
   ]
  },
  {
   "cell_type": "code",
   "execution_count": null,
   "id": "f42d74aa-eb86-411a-ac7e-6393a4eb6447",
   "metadata": {},
   "outputs": [],
   "source": []
  }
 ],
 "metadata": {
  "kernelspec": {
   "display_name": "Python 3 (ipykernel)",
   "language": "python",
   "name": "python3"
  },
  "language_info": {
   "codemirror_mode": {
    "name": "ipython",
    "version": 3
   },
   "file_extension": ".py",
   "mimetype": "text/x-python",
   "name": "python",
   "nbconvert_exporter": "python",
   "pygments_lexer": "ipython3",
   "version": "3.11.2"
  }
 },
 "nbformat": 4,
 "nbformat_minor": 5
}
