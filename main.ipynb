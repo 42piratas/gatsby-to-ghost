{
 "cells": [
  {
   "cell_type": "code",
   "execution_count": 1,
   "id": "3e0fc809-042e-4483-93f9-a349b7e7a17e",
   "metadata": {
    "tags": []
   },
   "outputs": [],
   "source": [
    "%run converts_gatsby_to_ghost.ipynb\n",
    "%run generates_ghost_token.ipynb\n",
    "%run calls_ghost_api.ipynb"
   ]
  },
  {
   "cell_type": "code",
   "execution_count": 2,
   "id": "ee8c071f-109e-4f10-a077-fe7706caef11",
   "metadata": {
    "tags": []
   },
   "outputs": [],
   "source": [
    "# TEMMMMPPPPP\n",
    "input_file = '/Users/42piratas/Playground/gatsby-to-ghost/origin/akasha-and-radicalxchange/index.md'"
   ]
  },
  {
   "cell_type": "code",
   "execution_count": 3,
   "id": "943e8118-43f2-49ea-9668-0beabb6189ec",
   "metadata": {
    "tags": []
   },
   "outputs": [],
   "source": [
    "blog_header, blog_content = reads_blog_post(input_file)\n",
    "title, authors, tags, date, img_hero = gets_metadata(blog_header)\n",
    "\n",
    "#TODO: Change to skipping + logging \n",
    "if not blog_content or not title or not authors or not date:\n",
    "    print(\"ERRORRRRRRR!!!!!\")\n",
    "    \n",
    "blog_content_html = converts_to_html(blog_content)"
   ]
  },
  {
   "cell_type": "code",
   "execution_count": 4,
   "id": "6308e871-e32c-4314-aa42-7894ba6aeff0",
   "metadata": {},
   "outputs": [],
   "source": [
    "token = generate_token()"
   ]
  },
  {
   "cell_type": "code",
   "execution_count": 5,
   "id": "5fe3fb5a-db22-4ae5-9c1c-af90bf79da7e",
   "metadata": {},
   "outputs": [
    {
     "name": "stdout",
     "output_type": "stream",
     "text": [
      "Successfully created blog post: X1 \n"
     ]
    },
    {
     "data": {
      "text/plain": [
       "'{\"posts\": [{\"title\": \"X1 \", \"authors\": [\"wassim.bendella@akasha.world\", \"anderson@akasha.world\"], \"tags\": [\"Events\", \"Interpersonal data\"], \"status\": \"draft\", \"published_at\": \"2019-03-24T00:00:00.000Z\", \"feature_image\": \"https://blog.akasha.org/content/images/2023/10/akasha-and-radicalxchange-radicalxchange-taubman-center-detroit-8.jpg\", \"html\": \"<p>The building in this photo has a fascinating history. The <em>A. Alfred Taubman Center for Design Education</em> in Detroit accommodates the <a href=\\\\\"http://www.collegeforcreativestudies.edu/\\\\\">College for Creative Studies</a> and <a href=\\\\\"https://www.shinola.com/\\\\\">Shinola</a>, and for this weekend, the <a href=\\\\\"http://radicalxchange.org/\\\\\">RadicalxChange conference</a> \\\\u2014 which is why I\\'m here.</p>\\\\n<p>Formerly owned by General Motors and known then as the Argonaut building, it hosted the world\\'s first dedicated automotive design studio. The Corvette was born here, as too the world\\'s first fully automatic transmission, engine-driven fuel pumps, freon, room-sized air conditioners, and, rather surprisingly, the <a href=\\\\\"https://jalopnik.com/how-a-car-company-built-the-worlds-first-mechanical-hea-5822972\\\\\">heart lung machine</a>.</p>\\\\n<p><img alt=\\\\\"Original 1953 Chevrolet Corvette C1\\\\\" src=\\\\\"https://blog.akasha.org/content/images/2023/10/akasha-and-radicalxchange-chevrolet-corvette-c1-1953-8.jpg\\\\\" />\\\\n<em><a href=\\\\\"https://en.wikipedia.org/wiki/Chevrolet_Corvette_C1\\\\\">Original 1953 Chevrolet Corvette C1</a></em></p>\\\\n<p>It\\'s the perfect location then \\\\u2014 in the innovation context \\\\u2014 for the inaugural conference kindled by the <a href=\\\\\"http://radicalmarkets.com/\\\\\">Radical Markets</a> book by Eric Posner and Glen Weyl. The book\\'s preface provides the perfect introduction to this gathering:</p>\\\\n<blockquote>\\\\n<p>Our premise is that markets are, and for the medium term will remain, the best way of arranging a society. But while our society is supposed to be organized by competitive markets, we contend the most important markets are monopolized or entirely missing, and that by creating true competitive, open and free markets, we can dramatically reduce inequality, increase prosperity, and heal the ideological and social rifts tearing our society apart.</p>\\\\n</blockquote>\\\\n<p>The authors envisage viscerally different markets with the intention, as the corresponding <a href=\\\\\"https://www.economist.com/books-and-arts/2018/05/10/dont-shrink-the-role-of-markets-expand-it\\\\\">book review in the Economist</a> points out, \\\\u201cto mount an onslaught against market power.\\\\u201d They\\\\u2019re searching for new kinds of market dynamic to eradicate the inequities of existing markets.</p>\\\\n<h2>Interdisciplinarity</h2>\\\\n<p>While this community continues to grapple in finding the right set of questions, and an integrative and generative set of responses, one thing is crystal clear \\\\u2014 this is an interdisciplinary undertaking. Certainly, the community that labels itself <em>blockchain</em> is well represented here, but so importantly are many other disciplines \\\\u2014 economists, artists, lawyers, sociologists, anthropologists, psychologists, ecologists, engineers, politicians, philosophers, historians, etc.</p>\\\\n<p>The need for such interdisciplinarity was <a href=\\\\\"http://dx.doi.org/10.1561/1800000001\\\\\">anticipated</a> by the progenitors of <a href=\\\\\"https://www.southampton.ac.uk/wsi/about/what_is_web_science.page\\\\\">Web Science</a> in 2006:</p>\\\\n<blockquote>\\\\n<p>Web Science has an ambitious agenda: to focus the analytical power of researchers from disciplines as diverse as mathematics, sociology, economics, psychology, law and computer science to understand and explain the Web. It is necessarily interdisciplinary \\\\u2014 as much about social and organizational behaviour as about the underpinning technology.</p>\\\\n</blockquote>\\\\n<p>As a budding web scientist myself, and a Londoner, I am also intrigued by the imminent launch of the <a href=\\\\\"https://www.londoninterdisciplinaryschool.org\\\\\">London Interdisciplinary School</a>. The time is right.</p>\\\\n<h2>Interpersonal data</h2>\\\\n<p>Clearly, striving for societally-valued outcomes of such a radical and interdisciplinary nature aligns with AKASHA\\'s purpose, and we\\'re keen to contribute our expertise and insight and, at the same time, tap into the interdisciplinary collective intelligence.</p>\\\\n<p>We\\'re particularly eager to respond to the provocations laid out in the <a href=\\\\\"http://radicalmarkets.com/chapters/data-as-labor/\\\\\">data-as-labor chapter</a> of the Radical Markets book, and an outline of our contribution is <a href=\\\\\"https://medium.com/radicalxchange/the-interpersonal-data-at-the-heart-of-all-human-digital-systems-including-markets-6316701184a9\\\\\">published here to RadicalxChange\\'s Medium publication</a> (and <a href=\\\\\"https://akasha.org/blog/2019/02/11/the-interpersonal-data-at-the-heart-of-all-human-digital-systems-including-markets\\\\\">on our own blog</a>). This is mission critical. Fundamentally, the way data flows and combines and informs impacts everything, from the individual\\'s human dignity to our species\\' collective response to super-wicked problems.</p>\\\\n<p>The TLDR version is:</p>\\\\n<ul>\\\\n<li>The propertization of personal data is abhorrent (the EU Data Protection Supervisor likens a market in personal data to a market in live human organs)</li>\\\\n<li>Data-as-labor has too much in common with data-as-property</li>\\\\n<li>Subjecting data to markets envelops the informationally rich in the informationally poor (i.e. price)</li>\\\\n<li>Data markets and data unions compound the division of those who merely provide the raw stuff from those with god-like exclusivity over sense-making</li>\\\\n<li>Markets don\\'t transform personal data so much as interpersonal data transform markets.</li>\\\\n</ul>\\\\n<p>If this presses your buttons, please don\\'t hesitate to <a href=\\\\\"https://akasha.org/contact/\\\\\">get in touch</a>.</p>\"}]}'"
      ]
     },
     "execution_count": 5,
     "metadata": {},
     "output_type": "execute_result"
    }
   ],
   "source": [
    "authors = [\"wassim.bendella@akasha.world\", \"anderson@akasha.world\"]\n",
    "\n",
    "create_blog_post(token, title, authors, tags, date, img_hero, blog_content_html)\n",
    "# ADD LOOOOOGGGGG"
   ]
  },
  {
   "cell_type": "code",
   "execution_count": null,
   "id": "8afca41a-007b-4ca5-832a-06f8f85c01f5",
   "metadata": {},
   "outputs": [],
   "source": []
  },
  {
   "cell_type": "code",
   "execution_count": null,
   "id": "aaa98738-3aeb-441f-aa20-b0e6d697ef22",
   "metadata": {},
   "outputs": [],
   "source": []
  },
  {
   "cell_type": "code",
   "execution_count": null,
   "id": "64fda86a-3747-4aca-9df1-fd66fe549028",
   "metadata": {},
   "outputs": [],
   "source": []
  },
  {
   "cell_type": "code",
   "execution_count": 6,
   "id": "ca333051-d784-4561-92a5-78946b8f018b",
   "metadata": {
    "tags": []
   },
   "outputs": [],
   "source": [
    "# current_directory = os.getcwd()\n",
    "# error_msg = []\n",
    "\n",
    "# for sub_dir in os.listdir(current_directory):\n",
    "    \n",
    "#     input_file = \"\"\n",
    "#     output_file = \"\"\n",
    "#     msg = \"\"\n",
    "    \n",
    "#     sub_dir_path = os.path.join(current_directory, sub_dir)\n",
    "    \n",
    "#     if os.path.isdir(sub_dir_path):\n",
    "        \n",
    "#         input_file =  os.path.join(sub_dir_path, 'index.md')\n",
    "#         output_file = sub_dir_path + '-index'\n",
    "        \n",
    "#         if not input_file:\n",
    "#             msg = f\"'{input_file}' does not exist!\"\n",
    "#             error_msg.append(msg)\n",
    "#             # SKIP ERROR HERE\n",
    "\n",
    "#         blog_header, blog_content = reads_blog_post(input_file)\n",
    "#         title, authors, tags, unix_timestamp = gets_metadata(blog_header)\n",
    "\n",
    "#         if not blog_content or not title or not author or not unix_timestamp:\n",
    "#             print(\"ERRORRRRRRR!!!!!\")\n",
    "        \n",
    "#         upload_images(sub_dir_path, title)"
   ]
  }
 ],
 "metadata": {
  "kernelspec": {
   "display_name": "Python 3 (ipykernel)",
   "language": "python",
   "name": "python3"
  },
  "language_info": {
   "codemirror_mode": {
    "name": "ipython",
    "version": 3
   },
   "file_extension": ".py",
   "mimetype": "text/x-python",
   "name": "python",
   "nbconvert_exporter": "python",
   "pygments_lexer": "ipython3",
   "version": "3.11.2"
  }
 },
 "nbformat": 4,
 "nbformat_minor": 5
}
