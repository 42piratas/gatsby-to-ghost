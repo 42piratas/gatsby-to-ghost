{
 "cells": [
  {
   "cell_type": "code",
   "execution_count": 1,
   "id": "3e0fc809-042e-4483-93f9-a349b7e7a17e",
   "metadata": {
    "tags": []
   },
   "outputs": [],
   "source": [
    "%run converts_gatsby_content_to_ghost.ipynb\n",
    "%run generates_ghost_token.ipynb\n",
    "%run calls_ghost_api.ipynb"
   ]
  },
  {
   "cell_type": "code",
   "execution_count": 2,
   "id": "ee8c071f-109e-4f10-a077-fe7706caef11",
   "metadata": {
    "tags": []
   },
   "outputs": [],
   "source": [
    "# TEMMMMPPPPP\n",
    "input_file = '/Users/42piratas/Playground/akasha/akasha-blog-migration-to-ghost/TEST3/index.md'\n",
    "# output_file = '/Users/42piratas/Desktop/akasha-blog/first_test.json'"
   ]
  },
  {
   "cell_type": "code",
   "execution_count": 3,
   "id": "943e8118-43f2-49ea-9668-0beabb6189ec",
   "metadata": {
    "tags": []
   },
   "outputs": [],
   "source": [
    "blog_header, blog_content = reads_blog_post(input_file)\n",
    "title, authors, tags, unix_timestamp = gets_metadata(blog_header)\n",
    "\n",
    "if not blog_content or not title or not authors or not unix_timestamp:\n",
    "    print(\"ERRORRRRRRR!!!!!\")\n",
    "    \n",
    "# new_blog_content = convert_to_mobiledoc(title, authors, tags, blog_content, unix_timestamp)\n",
    "# save_new_file(new_blog_content)"
   ]
  },
  {
   "cell_type": "code",
   "execution_count": 9,
   "id": "709c30bf-a7da-4feb-9f8f-0a98d0f091f5",
   "metadata": {
    "tags": []
   },
   "outputs": [
    {
     "data": {
      "text/plain": [
       "1612494000"
      ]
     },
     "execution_count": 9,
     "metadata": {},
     "output_type": "execute_result"
    }
   ],
   "source": [
    "unix_timestamp"
   ]
  },
  {
   "cell_type": "code",
   "execution_count": null,
   "id": "c8883c47-1dde-4687-bbab-df09f1bc9a33",
   "metadata": {},
   "outputs": [],
   "source": [
    "token = generate_token()"
   ]
  },
  {
   "cell_type": "code",
   "execution_count": null,
   "id": "5fe3fb5a-db22-4ae5-9c1c-af90bf79da7e",
   "metadata": {},
   "outputs": [],
   "source": [
    "create_blog_post(token, title, authors, tags, blog_content)\n",
    "# ADD LOOOOOGGGGG"
   ]
  },
  {
   "cell_type": "code",
   "execution_count": null,
   "id": "389fcb56-0fbc-4109-a53f-02f358f72598",
   "metadata": {},
   "outputs": [],
   "source": []
  },
  {
   "cell_type": "code",
   "execution_count": null,
   "id": "8afca41a-007b-4ca5-832a-06f8f85c01f5",
   "metadata": {},
   "outputs": [],
   "source": []
  },
  {
   "cell_type": "code",
   "execution_count": null,
   "id": "aaa98738-3aeb-441f-aa20-b0e6d697ef22",
   "metadata": {},
   "outputs": [],
   "source": []
  },
  {
   "cell_type": "code",
   "execution_count": null,
   "id": "64fda86a-3747-4aca-9df1-fd66fe549028",
   "metadata": {},
   "outputs": [],
   "source": []
  },
  {
   "cell_type": "code",
   "execution_count": null,
   "id": "ca333051-d784-4561-92a5-78946b8f018b",
   "metadata": {
    "tags": []
   },
   "outputs": [],
   "source": [
    "# current_directory = os.getcwd()\n",
    "# error_msg = []\n",
    "\n",
    "# for sub_dir in os.listdir(current_directory):\n",
    "    \n",
    "#     input_file = \"\"\n",
    "#     output_file = \"\"\n",
    "#     msg = \"\"\n",
    "    \n",
    "#     sub_dir_path = os.path.join(current_directory, sub_dir)\n",
    "    \n",
    "#     if os.path.isdir(sub_dir_path):\n",
    "        \n",
    "#         input_file =  os.path.join(sub_dir_path, 'index.md')\n",
    "#         output_file = sub_dir_path + '-index'\n",
    "        \n",
    "#         if not input_file:\n",
    "#             msg = f\"'{input_file}' does not exist!\"\n",
    "#             error_msg.append(msg)\n",
    "#             # SKIP ERROR HERE\n",
    "\n",
    "#         blog_header, blog_content = reads_blog_post(input_file)\n",
    "#         title, authors, tags, unix_timestamp = gets_metadata(blog_header)\n",
    "\n",
    "#         if not blog_content or not title or not author or not unix_timestamp:\n",
    "#             print(\"ERRORRRRRRR!!!!!\")\n",
    "        \n",
    "#         upload_images(sub_dir_path, title)"
   ]
  }
 ],
 "metadata": {
  "kernelspec": {
   "display_name": "Python 3 (ipykernel)",
   "language": "python",
   "name": "python3"
  },
  "language_info": {
   "codemirror_mode": {
    "name": "ipython",
    "version": 3
   },
   "file_extension": ".py",
   "mimetype": "text/x-python",
   "name": "python",
   "nbconvert_exporter": "python",
   "pygments_lexer": "ipython3",
   "version": "3.11.2"
  }
 },
 "nbformat": 4,
 "nbformat_minor": 5
}
