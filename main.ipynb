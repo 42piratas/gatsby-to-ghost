{
 "cells": [
  {
   "cell_type": "code",
   "execution_count": 2,
   "id": "3e0fc809-042e-4483-93f9-a349b7e7a17e",
   "metadata": {
    "tags": []
   },
   "outputs": [],
   "source": [
    "%run converts_gatsby_to_ghost.ipynb\n",
    "%run generates_ghost_token.ipynb\n",
    "%run calls_ghost_api.ipynb"
   ]
  },
  {
   "cell_type": "code",
   "execution_count": 3,
   "id": "ee8c071f-109e-4f10-a077-fe7706caef11",
   "metadata": {
    "tags": []
   },
   "outputs": [],
   "source": [
    "# TEMMMMPPPPP\n",
    "input_file = '/Users/42piratas/Playground/gatsby-to-ghost/origin/akasha-and-radicalxchange/index.md'"
   ]
  },
  {
   "cell_type": "code",
   "execution_count": 5,
   "id": "943e8118-43f2-49ea-9668-0beabb6189ec",
   "metadata": {
    "tags": []
   },
   "outputs": [
    {
     "name": "stdout",
     "output_type": "stream",
     "text": [
      "['Philip Sheldrake']\n",
      "['philip.sheldrake@akasha.world']\n"
     ]
    }
   ],
   "source": [
    "blog_header, blog_content = reads_blog_post(input_file)\n",
    "title, authors, tags, date, img_hero = gets_metadata(blog_header)\n",
    "\n",
    "#TODO: Change to skipping + logging \n",
    "if not blog_content:\n",
    "    print(\"ERRORRRRRRR!!!!!\")\n",
    "elif not title:\n",
    "    print(\"ERRORRRRRRR!!!!!\")  \n",
    "elif not authors:\n",
    "    print(\"ERRORRRRRRR!!!!!\")  \n",
    "elif not date:\n",
    "    print(\"ERRORRRRRRR!!!!!\")  \n",
    "    \n",
    "blog_content_html = converts_to_html(blog_content)"
   ]
  },
  {
   "cell_type": "code",
   "execution_count": null,
   "id": "ab579660-e70c-4031-ad82-dcf8365c1796",
   "metadata": {},
   "outputs": [],
   "source": []
  },
  {
   "cell_type": "code",
   "execution_count": null,
   "id": "eb32cece-b07c-4304-9bc5-3ff89ada9fa7",
   "metadata": {},
   "outputs": [],
   "source": []
  },
  {
   "cell_type": "code",
   "execution_count": null,
   "id": "8ad66020-39c1-4fbf-8dc1-eea17e4d1d69",
   "metadata": {},
   "outputs": [],
   "source": []
  },
  {
   "cell_type": "code",
   "execution_count": null,
   "id": "92b27865-6a8f-4f14-b760-ef335e3874b9",
   "metadata": {},
   "outputs": [],
   "source": []
  },
  {
   "cell_type": "code",
   "execution_count": null,
   "id": "0b989a7f-8861-49a6-bce6-ee06f04d2445",
   "metadata": {
    "tags": []
   },
   "outputs": [],
   "source": []
  },
  {
   "cell_type": "code",
   "execution_count": null,
   "id": "6343ec90-c795-4fd0-b849-64e8d0996bb7",
   "metadata": {},
   "outputs": [],
   "source": []
  },
  {
   "cell_type": "code",
   "execution_count": null,
   "id": "6308e871-e32c-4314-aa42-7894ba6aeff0",
   "metadata": {},
   "outputs": [],
   "source": [
    "token = generate_token()"
   ]
  },
  {
   "cell_type": "code",
   "execution_count": null,
   "id": "5fe3fb5a-db22-4ae5-9c1c-af90bf79da7e",
   "metadata": {},
   "outputs": [],
   "source": [
    "authors = [\"wassim.bendella@akasha.world\", \"anderson@akasha.world\"]\n",
    "\n",
    "create_blog_post(token, title, authors, tags, date, img_hero, blog_content_html)\n",
    "# ADD LOOOOOGGGGG"
   ]
  },
  {
   "cell_type": "code",
   "execution_count": null,
   "id": "8afca41a-007b-4ca5-832a-06f8f85c01f5",
   "metadata": {},
   "outputs": [],
   "source": []
  },
  {
   "cell_type": "code",
   "execution_count": null,
   "id": "aaa98738-3aeb-441f-aa20-b0e6d697ef22",
   "metadata": {},
   "outputs": [],
   "source": []
  },
  {
   "cell_type": "code",
   "execution_count": null,
   "id": "64fda86a-3747-4aca-9df1-fd66fe549028",
   "metadata": {},
   "outputs": [],
   "source": []
  },
  {
   "cell_type": "code",
   "execution_count": null,
   "id": "ca333051-d784-4561-92a5-78946b8f018b",
   "metadata": {
    "tags": []
   },
   "outputs": [],
   "source": [
    "# current_directory = os.getcwd()\n",
    "# error_msg = []\n",
    "\n",
    "# for sub_dir in os.listdir(current_directory):\n",
    "    \n",
    "#     input_file = \"\"\n",
    "#     output_file = \"\"\n",
    "#     msg = \"\"\n",
    "    \n",
    "#     sub_dir_path = os.path.join(current_directory, sub_dir)\n",
    "    \n",
    "#     if os.path.isdir(sub_dir_path):\n",
    "        \n",
    "#         input_file =  os.path.join(sub_dir_path, 'index.md')\n",
    "#         output_file = sub_dir_path + '-index'\n",
    "        \n",
    "#         if not input_file:\n",
    "#             msg = f\"'{input_file}' does not exist!\"\n",
    "#             error_msg.append(msg)\n",
    "#             # SKIP ERROR HERE\n",
    "\n",
    "#         blog_header, blog_content = reads_blog_post(input_file)\n",
    "#         title, authors, tags, unix_timestamp = gets_metadata(blog_header)\n",
    "\n",
    "#         if not blog_content or not title or not author or not unix_timestamp:\n",
    "#             print(\"ERRORRRRRRR!!!!!\")\n",
    "        \n",
    "#         upload_images(sub_dir_path, title)"
   ]
  }
 ],
 "metadata": {
  "kernelspec": {
   "display_name": "Python 3 (ipykernel)",
   "language": "python",
   "name": "python3"
  },
  "language_info": {
   "codemirror_mode": {
    "name": "ipython",
    "version": 3
   },
   "file_extension": ".py",
   "mimetype": "text/x-python",
   "name": "python",
   "nbconvert_exporter": "python",
   "pygments_lexer": "ipython3",
   "version": "3.11.2"
  }
 },
 "nbformat": 4,
 "nbformat_minor": 5
}
