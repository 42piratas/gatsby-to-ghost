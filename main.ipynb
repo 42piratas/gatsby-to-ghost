{
 "cells": [
  {
   "cell_type": "code",
   "execution_count": 1,
   "id": "f4209f68-52d2-4f44-b7bb-6a247de92ee5",
   "metadata": {},
   "outputs": [],
   "source": [
    "import os\n",
    "import re\n",
    "import logging"
   ]
  },
  {
   "cell_type": "code",
   "execution_count": 2,
   "id": "3e0fc809-042e-4483-93f9-a349b7e7a17e",
   "metadata": {
    "tags": []
   },
   "outputs": [],
   "source": [
    "%run preprocesses_images.ipynb\n",
    "%run converts_gatsby_to_ghost.ipynb\n",
    "%run generates_ghost_token.ipynb\n",
    "%run calls_ghost_api.ipynb\n",
    "%run gets_authors_emails.ipynb"
   ]
  },
  {
   "cell_type": "code",
   "execution_count": 3,
   "id": "2c5857d5-c3af-4594-84cd-6b594861917c",
   "metadata": {},
   "outputs": [],
   "source": [
    "logging.basicConfig(\n",
    "    level=logging.INFO, \n",
    "    format='%(asctime)s - %(levelname)s - %(message)s',\n",
    "    datefmt='%Y-%m-%d %H:%M:%S',\n",
    "    filename='log_gatsby_to_ghost.log'\n",
    ")"
   ]
  },
  {
   "cell_type": "code",
   "execution_count": 4,
   "id": "ee8c071f-109e-4f10-a077-fe7706caef11",
   "metadata": {
    "tags": []
   },
   "outputs": [],
   "source": [
    "origin_directory= '/Users/42piratas/Playground/gatsby-to-ghost/origin/'"
   ]
  },
  {
   "cell_type": "code",
   "execution_count": 5,
   "id": "0fbc344a-1f59-480f-be58-21bb57777f44",
   "metadata": {},
   "outputs": [],
   "source": [
    "for sub_dir in os.listdir(origin_directory):\n",
    "    \n",
    "    sub_dir_path = os.path.join(origin_directory, sub_dir)\n",
    "    \n",
    "    if os.path.isdir(sub_dir_path):\n",
    "        \n",
    "        input_file = os.path.join(sub_dir_path, \"index.md\")\n",
    "        blog_header, blog_content = reads_blog_post(input_file)\n",
    "        title, authors, tags, date, img_hero = gets_metadata(input_file, blog_header)\n",
    "        slug = sub_dir\n",
    "\n",
    "        if not blog_content:\n",
    "            logging.error(f'ERROR BLOG CONTENT ---> {input_file}')\n",
    "            continue\n",
    "        elif not title:\n",
    "            logging.error(f'ERROR TITLE ---> {input_file}')\n",
    "            continue\n",
    "        elif not authors:\n",
    "            logging.error(f'ERROR AUTHORS ---> {input_file}')\n",
    "            continue\n",
    "        elif not date:\n",
    "            logging.error(f'ERROR DATE ---> {input_file}')\n",
    "            continue\n",
    "        \n",
    "        authors_emails = replaces_authors_w_emails(authors)\n",
    "        \n",
    "        if not authors_emails:\n",
    "            logging.error(f'ERROR EMAIL ---> {input_file} : {authors_emails}')\n",
    "            continue\n",
    "            \n",
    "        blog_content_html = converts_to_html(blog_content)\n",
    "        token = generate_token()\n",
    "        final = create_blog_post(token, slug, title, authors, tags, date, img_hero, blog_content_html)\n",
    "        \n",
    "        if final == \"SUCCESS\":\n",
    "            logging.info(f'SUCCCCESSSZZZZSS!!!!1 {sub_dir_path}')\n",
    "        else:\n",
    "            logging.error(f'ERRORRRRRRRRRRRRRR ---> {sub_dir_path}')"
   ]
  },
  {
   "cell_type": "code",
   "execution_count": null,
   "id": "9c348480-3139-4fe3-8360-a30d6bcdaa4b",
   "metadata": {},
   "outputs": [],
   "source": []
  }
 ],
 "metadata": {
  "kernelspec": {
   "display_name": "Python 3 (ipykernel)",
   "language": "python",
   "name": "python3"
  },
  "language_info": {
   "codemirror_mode": {
    "name": "ipython",
    "version": 3
   },
   "file_extension": ".py",
   "mimetype": "text/x-python",
   "name": "python",
   "nbconvert_exporter": "python",
   "pygments_lexer": "ipython3",
   "version": "3.11.2"
  }
 },
 "nbformat": 4,
 "nbformat_minor": 5
}
