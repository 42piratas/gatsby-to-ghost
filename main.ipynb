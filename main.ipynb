{
 "cells": [
  {
   "cell_type": "code",
   "execution_count": 1,
   "id": "3e0fc809-042e-4483-93f9-a349b7e7a17e",
   "metadata": {
    "tags": []
   },
   "outputs": [],
   "source": [
    "%run converts_gatsby_to_ghost.ipynb\n",
    "%run generates_ghost_token.ipynb\n",
    "%run calls_ghost_api.ipynb"
   ]
  },
  {
   "cell_type": "code",
   "execution_count": 2,
   "id": "ee8c071f-109e-4f10-a077-fe7706caef11",
   "metadata": {
    "tags": []
   },
   "outputs": [],
   "source": [
    "# TEMMMMPPPPP\n",
    "input_file = '/Users/42piratas/Playground/akasha/akasha-blog-migration-to-ghost/TEST1026/index.md'"
   ]
  },
  {
   "cell_type": "code",
   "execution_count": 3,
   "id": "943e8118-43f2-49ea-9668-0beabb6189ec",
   "metadata": {
    "tags": []
   },
   "outputs": [],
   "source": [
    "blog_header, blog_content = reads_blog_post(input_file)\n",
    "title, authors, tags, date = gets_metadata(blog_header)\n",
    "\n",
    "#TODO: Change to skipping + logging \n",
    "if not blog_content or not title or not authors or not date:\n",
    "    print(\"ERRORRRRRRR!!!!!\")\n",
    "    \n",
    "blog_content_html = converts_to_html(blog_content)"
   ]
  },
  {
   "cell_type": "code",
   "execution_count": 4,
   "id": "6308e871-e32c-4314-aa42-7894ba6aeff0",
   "metadata": {},
   "outputs": [],
   "source": [
    "token = generate_token()"
   ]
  },
  {
   "cell_type": "code",
   "execution_count": 5,
   "id": "5fe3fb5a-db22-4ae5-9c1c-af90bf79da7e",
   "metadata": {},
   "outputs": [
    {
     "name": "stdout",
     "output_type": "stream",
     "text": [
      "Successfully created blog post: TEST1026-01\n"
     ]
    },
    {
     "data": {
      "text/plain": [
       "'{\"posts\": [{\"title\": \"TEST1026-01\", \"authors\": [\"wassim.bendella@akasha.world\"], \"tags\": [\"TagTest1\", \"TagTest2\", \"TagTest3\"], \"status\": \"draft\", \"published_at\": \"2021-02-05T00:00:00.000Z\", \"html\": \"<p>Ethereum World is about to hatch, and we hope it will flourish. The AKASHA team is therefore growing to fully support it!</p>\\\\n<p>Hi, everyone! I\\'m Wassim, and I joined the team 5 weeks ago at the beginning of 2021 - but hey, I\\'m not even the latest hire! \\\\ud83e\\\\udd2b</p>\\\\n<p>I would describe myself as a traveler and avid learner. I\\'m passionate about tech, strategy, crypto, and investing. The convergence of all these interests has led me to launch\\\\u00a0a publication where I write about emerging trends and make some fun public bets.</p>\\\\n<p>I currently live in France, but in the past, I\\'ve lived in Morocco, Poland, Finland, and the Netherlands. AKASHA\\'s remote-first and asynchronous culture is a major enabler for freedom of movement. So I\\'m about to turn into a digital nomad to quench my thirst for <a href=\\\\\"https://www.goodreads.com/book/show/100247.Vagabonding\\\\\">vagabonding</a>.</p>\\\\n<p><img alt=\\\\\"Zakopane-AKASHA.jpg\\\\\" src=\\\\\"Zakopane-AKASHA.jpg\\\\\" />\\\\n<em>Who else is missing our old Covid-free world?</em></p>\\\\n<p>I first came across bitcoin and digital ledger technologies in 2016. I instantly and completely fell in love with their promise. That\\'s when I decided I would dedicate the following decade to learning about, promoting, and building with blockchain technologies \\\\u2764\\\\ufe0f</p>\\\\n<p>From there, I wrote my Master\\'s thesis on blockchain business models and started getting involved with various crypto projects. I\\'ve lived the exciting effervescence (and exuberance) of 2017 from the inside, as well as the following calmer, but still very productive years of blockchain\\'s lifecycle.  In my most recent role, I worked as a business developer with a decentralized cloud computing project, working towards growing their protocol\\'s adoption.</p>\\\\n<p>I started seeing blockchain as a means of achieving an ideal. It\\'s obviously a disruptive technology, but it\\'s also a new economic paradigm and a social movement. Blockchain is about reversing plutocratic and autocratic trends, while empowering participants in an ownership economy. It\\'s everything, and more \\\\u270a</p>\\\\n<p>In the meantime, as social media powerhouses grew more dominant and omnipresent, I grew more and more interested in the threats and challenges of the new technological status quo. Surveillance capitalism, fake news, the polarization of society, censorship, and opaque algorithms. You name it. Especially as the founder of a small media company, tangled in their networks and often at their whim, I started thinking about alternatives. There had to be a better way.</p>\\\\n<p>I believe this feeling to be shared by a great majority of my fellow Internet citizens. We need new business models, fairer governance mechanisms, and future-facing processes. We need new ways to communicate, collaborate, and unlock our collective potential. We need privacy-preserving technologies, and civil places to meet online.</p>\\\\n<p>Fortunately, here and there, small, genuine voices are whispering similar tones of freedom and change. One of these voices belongs to AKASHA, and for me, it was the obvious and logical opportunity to roll up my sleeves and act on my desire for change. My goal is to contribute to marking its voice louder, and warmer.</p>\\\\n<p>I will be involved in the very-soon-to-be-unveiled <a href=\\\\\"http://ethereum.world/\\\\\">Ethereum World</a>. My focus is to grow it into a vibrant, self-organizing community. It\\'s the very first world to be built upon the AKASHA World Framework, and my dream for it is simple: for the Ethereum community to call it home!</p>\\\\n<p>I\\\\u2019m thrilled to be taking this journey with you! \\\\ud83d\\\\ude0d You can usually find me moderating the conversation on <a href=\\\\\"https://t.me/worldofethereum\\\\\">Telegram</a> and <a href=\\\\\"https://twitter.com/worldofethereum\\\\\">Twitter</a> (and soon on Ethereum World). If you\\\\u2019re interested in joining us, you can find our job listings <a href=\\\\\"https://akasha.org/careers/\\\\\">here</a>.</p>\\\\n<p>Let\\'s #WORDL!</p>\"}]}'"
      ]
     },
     "execution_count": 5,
     "metadata": {},
     "output_type": "execute_result"
    }
   ],
   "source": [
    "authors = [\"wassim.bendella@akasha.world\"]\n",
    "\n",
    "create_blog_post(token, title, authors, tags, date, blog_content_html)\n",
    "# ADD LOOOOOGGGGG"
   ]
  },
  {
   "cell_type": "code",
   "execution_count": null,
   "id": "8afca41a-007b-4ca5-832a-06f8f85c01f5",
   "metadata": {},
   "outputs": [],
   "source": []
  },
  {
   "cell_type": "code",
   "execution_count": null,
   "id": "aaa98738-3aeb-441f-aa20-b0e6d697ef22",
   "metadata": {},
   "outputs": [],
   "source": []
  },
  {
   "cell_type": "code",
   "execution_count": null,
   "id": "64fda86a-3747-4aca-9df1-fd66fe549028",
   "metadata": {},
   "outputs": [],
   "source": []
  },
  {
   "cell_type": "code",
   "execution_count": 6,
   "id": "ca333051-d784-4561-92a5-78946b8f018b",
   "metadata": {
    "tags": []
   },
   "outputs": [],
   "source": [
    "# current_directory = os.getcwd()\n",
    "# error_msg = []\n",
    "\n",
    "# for sub_dir in os.listdir(current_directory):\n",
    "    \n",
    "#     input_file = \"\"\n",
    "#     output_file = \"\"\n",
    "#     msg = \"\"\n",
    "    \n",
    "#     sub_dir_path = os.path.join(current_directory, sub_dir)\n",
    "    \n",
    "#     if os.path.isdir(sub_dir_path):\n",
    "        \n",
    "#         input_file =  os.path.join(sub_dir_path, 'index.md')\n",
    "#         output_file = sub_dir_path + '-index'\n",
    "        \n",
    "#         if not input_file:\n",
    "#             msg = f\"'{input_file}' does not exist!\"\n",
    "#             error_msg.append(msg)\n",
    "#             # SKIP ERROR HERE\n",
    "\n",
    "#         blog_header, blog_content = reads_blog_post(input_file)\n",
    "#         title, authors, tags, unix_timestamp = gets_metadata(blog_header)\n",
    "\n",
    "#         if not blog_content or not title or not author or not unix_timestamp:\n",
    "#             print(\"ERRORRRRRRR!!!!!\")\n",
    "        \n",
    "#         upload_images(sub_dir_path, title)"
   ]
  }
 ],
 "metadata": {
  "kernelspec": {
   "display_name": "Python 3 (ipykernel)",
   "language": "python",
   "name": "python3"
  },
  "language_info": {
   "codemirror_mode": {
    "name": "ipython",
    "version": 3
   },
   "file_extension": ".py",
   "mimetype": "text/x-python",
   "name": "python",
   "nbconvert_exporter": "python",
   "pygments_lexer": "ipython3",
   "version": "3.11.2"
  }
 },
 "nbformat": 4,
 "nbformat_minor": 5
}
