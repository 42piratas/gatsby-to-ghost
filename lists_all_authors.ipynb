{
 "cells": [
  {
   "cell_type": "code",
   "execution_count": 1,
   "id": "85404833-33d8-40fa-b450-e00241d8a6a7",
   "metadata": {
    "tags": []
   },
   "outputs": [],
   "source": [
    "import os\n",
    "import re"
   ]
  },
  {
   "cell_type": "code",
   "execution_count": 2,
   "id": "28d375c0-c9c6-4f08-8ca3-bbad7c40bd83",
   "metadata": {
    "tags": []
   },
   "outputs": [],
   "source": [
    "def find_authors(root_directory):\n",
    "    authors = set()\n",
    "    directories_without_authors = []\n",
    "\n",
    "    # Traverse the root directory and its subdirectories\n",
    "    for dirpath, dirnames, filenames in os.walk(root_directory):\n",
    "        for filename in filenames:\n",
    "            if filename == \"index.md\":\n",
    "                md_file_path = os.path.join(dirpath, filename)\n",
    "                with open(md_file_path, \"r\", encoding=\"utf-8\") as file:\n",
    "                    md_content = file.read()\n",
    "                    # Use regular expression to find author(s)\n",
    "                    author_pattern = re.compile(r\"author:\\s*-\\s*(\\w+)\")\n",
    "                    matches = author_pattern.findall(md_content)\n",
    "                    if matches:\n",
    "                        authors.update(matches)\n",
    "                    else:\n",
    "                        # If no author found, add directory to the list\n",
    "                        directories_without_authors.append(dirpath)\n",
    "\n",
    "    return list(authors), directories_without_authors"
   ]
  },
  {
   "cell_type": "code",
   "execution_count": null,
   "id": "f7853fc3-5c32-41fe-96cb-6c93474d6ec9",
   "metadata": {},
   "outputs": [],
   "source": [
    "# Specify the root directory of your repo\n",
    "root_directory = \"//Users/42piratas/Playground/akasha/akasha-blog-migration-to-ghost\"\n",
    "\n",
    "unique_authors, directories_without_authors = find_authors(root_directory)\n",
    "\n",
    "print(\"Unique Authors:\")\n",
    "for author in unique_authors:\n",
    "    print(author)\n",
    "\n",
    "print(\"\\nDirectories without Authors:\")\n",
    "for directory in directories_without_authors:\n",
    "    print(directory)"
   ]
  }
 ],
 "metadata": {
  "kernelspec": {
   "display_name": "Python 3 (ipykernel)",
   "language": "python",
   "name": "python3"
  },
  "language_info": {
   "codemirror_mode": {
    "name": "ipython",
    "version": 3
   },
   "file_extension": ".py",
   "mimetype": "text/x-python",
   "name": "python",
   "nbconvert_exporter": "python",
   "pygments_lexer": "ipython3",
   "version": "3.11.2"
  }
 },
 "nbformat": 4,
 "nbformat_minor": 5
}
