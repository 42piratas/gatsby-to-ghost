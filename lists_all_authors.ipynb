{
 "cells": [
  {
   "cell_type": "code",
   "execution_count": 1,
   "id": "85404833-33d8-40fa-b450-e00241d8a6a7",
   "metadata": {
    "tags": []
   },
   "outputs": [],
   "source": [
    "import os\n",
    "import re\n",
    "from collections import defaultdict"
   ]
  },
  {
   "cell_type": "code",
   "execution_count": 2,
   "id": "ad3c146a-2147-45d9-b4b5-ae8f6703ca38",
   "metadata": {},
   "outputs": [],
   "source": [
    "root_directory = \"//Users/42piratas/Playground/akasha/akasha-blog-migration-to-ghost\""
   ]
  },
  {
   "cell_type": "code",
   "execution_count": 5,
   "id": "28d375c0-c9c6-4f08-8ca3-bbad7c40bd83",
   "metadata": {
    "tags": []
   },
   "outputs": [
    {
     "name": "stdout",
     "output_type": "stream",
     "text": [
      "Subdirectories without authors:\n",
      "//Users/42piratas/Playground/akasha/akasha-blog-migration-to-ghost/ethereum-zug-meetup-may-1st-2017\n",
      "//Users/42piratas/Playground/akasha/akasha-blog-migration-to-ghost/heidelberg-laureate-forum\n",
      "//Users/42piratas/Playground/akasha/akasha-blog-migration-to-ghost/ethereum-edcon-paris-2017\n",
      "//Users/42piratas/Playground/akasha/akasha-blog-migration-to-ghost/akasha-unveiling-the-next-experiment\n",
      "//Users/42piratas/Playground/akasha/akasha-blog-migration-to-ghost/akasha-at-the-heidelberg-laureate-forum\n",
      "//Users/42piratas/Playground/akasha/akasha-blog-migration-to-ghost/akasha-at-dublin-tech-summit\n",
      "\n",
      "Unique Authors:\n",
      "Wassim Bendella\n",
      "Robert Mitson\n",
      "Nick Almond\n",
      "Joshua Long\n",
      "Josemaria Nriagu\n",
      "Mihai Alisie\n",
      "Andrei Sambra\n",
      "Martin Etzrodt\n",
      "Gabriel Golcher\n",
      "Ânderson Q.\n",
      "AKASHA Team\n",
      "Philip Sheldrake\n",
      "Marius Darila\n",
      "Sever Abibula\n",
      "María Sanmartín\n"
     ]
    }
   ],
   "source": [
    "# Initialize a set to store unique authors\n",
    "unique_authors = set()\n",
    "\n",
    "# Initialize a list to store subdirectories without authors\n",
    "subdirs_without_authors = []\n",
    "\n",
    "# Function to extract author names from index.md files\n",
    "def extract_author_names(file_path):\n",
    "    with open(file_path, 'r') as file:\n",
    "        content = file.read()\n",
    "        # Find all matches of the author pattern\n",
    "        matches = author_pattern.findall(content)\n",
    "        for match in matches:\n",
    "            # Split authors by commas and strip whitespace\n",
    "            authors = [author.strip() for author in match.split(',')]\n",
    "            for author in authors:\n",
    "                # Add authors to the set of unique authors\n",
    "                unique_authors.add(author)\n",
    "        if not matches:\n",
    "            # If no author line is found, record the directory\n",
    "            subdirs_without_authors.append(os.path.dirname(file_path))\n",
    "\n",
    "# Define a regular expression pattern to match author lines\n",
    "author_pattern = re.compile(r'^author:\\s*-\\s*(.*?)$', re.MULTILINE)\n",
    "\n",
    "# Walk through the directory and its subdirectories\n",
    "for subdir, dirs, files in os.walk(root_directory):\n",
    "    for file in files:\n",
    "        if file == 'index.md':\n",
    "            file_path = os.path.join(subdir, file)\n",
    "            extract_author_names(file_path)\n",
    "\n",
    "# Print the subdirectories without authors\n",
    "print(\"Subdirectories without authors:\")\n",
    "for subdir in subdirs_without_authors:\n",
    "    print(subdir)\n",
    "\n",
    "# Print all unique authors\n",
    "print(\"\\nUnique Authors:\")\n",
    "for author in unique_authors:\n",
    "    print(author)"
   ]
  },
  {
   "cell_type": "code",
   "execution_count": null,
   "id": "5cfc7476-ebb0-4598-8608-79d84a11b721",
   "metadata": {},
   "outputs": [],
   "source": []
  }
 ],
 "metadata": {
  "kernelspec": {
   "display_name": "Python 3 (ipykernel)",
   "language": "python",
   "name": "python3"
  },
  "language_info": {
   "codemirror_mode": {
    "name": "ipython",
    "version": 3
   },
   "file_extension": ".py",
   "mimetype": "text/x-python",
   "name": "python",
   "nbconvert_exporter": "python",
   "pygments_lexer": "ipython3",
   "version": "3.11.2"
  }
 },
 "nbformat": 4,
 "nbformat_minor": 5
}
