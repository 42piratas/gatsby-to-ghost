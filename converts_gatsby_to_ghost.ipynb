{
 "cells": [
  {
   "cell_type": "code",
   "execution_count": 1,
   "id": "7b5e55ab-f9a0-41bb-bc58-0df927a201ae",
   "metadata": {
    "tags": []
   },
   "outputs": [],
   "source": [
    "from datetime import datetime\n",
    "import markdown\n",
    "import requests\n",
    "import json\n",
    "import re\n",
    "import os"
   ]
  },
  {
   "cell_type": "code",
   "execution_count": 2,
   "id": "457329e7-7b5a-4cfb-b002-551284694678",
   "metadata": {
    "tags": []
   },
   "outputs": [],
   "source": [
    "def reads_blog_post(input_file):\n",
    "    # Reads original blog post file\n",
    "    # Separates the header from the main content \n",
    "    \n",
    "    with open(input_file, 'r') as file:\n",
    "        blog_content = file.read()\n",
    "        \n",
    "    blog_pieces = blog_content.split('---', 2)\n",
    "\n",
    "    if len(blog_pieces) > 2:\n",
    "        blog_header = blog_pieces[1]\n",
    "        blog_content = '---'.join(blog_pieces[2:])\n",
    "        blog_content = blog_content.lstrip('\\n')\n",
    "    else:\n",
    "        blog_content = \"\"\n",
    "    \n",
    "    ##### LLLLOOOOOOGGGGG!\n",
    "    \n",
    "    return blog_header, blog_content"
   ]
  },
  {
   "cell_type": "code",
   "execution_count": 3,
   "id": "26d7cd4a-7c2d-4722-a365-7846ef3be7d5",
   "metadata": {
    "tags": []
   },
   "outputs": [],
   "source": [
    "def gets_metadata(blog_header):\n",
    "    \n",
    "    # Gets the blog title    \n",
    "    \n",
    "    title_match = re.search(r\"title: ['\\\"]([^'\\\"]*)['\\\"]\", blog_header)\n",
    "    \n",
    "    if title_match:\n",
    "        title = title_match.group(1)\n",
    "    else:\n",
    "        title = \"\"\n",
    "        \n",
    "    # Gets the author\n",
    "    \n",
    "    author_match = re.search(r\"author:[\\s\\S]*?-(.*?)\\n\", blog_header)\n",
    "\n",
    "    if author_match:\n",
    "        authors_block = author_match.group(1)\n",
    "        authors = [author.strip() for author in authors_block.split('\\n')]\n",
    "    else:\n",
    "        authors = []\n",
    "\n",
    "    # Gets Categories/Tags\n",
    "    \n",
    "    categories = re.findall(r\"category:\\s*\\n((?:\\s+-\\s+.+\\n)+)\", blog_header)\n",
    "\n",
    "    if categories:\n",
    "        categories = re.findall(r\"- (.+)\", categories[0])\n",
    "    else:\n",
    "        categories = []\n",
    "        \n",
    "    tags = categories.copy()\n",
    "            \n",
    "    # Get the publishing date\n",
    "    \n",
    "    date_match = re.search(r\"date:\\s*'(\\d{4}-\\d{2}-\\d{2})'\", blog_header)\n",
    "\n",
    "    if date_match:\n",
    "        date_str = date_match.group(1)  # Extract the date string\n",
    "        # Convert the date string to a datetime object\n",
    "        date_obj = datetime.strptime(date_str, '%Y-%m-%d')\n",
    "        date_str = date_obj.strftime('%Y-%m-%dT%H:%M:%S.000Z')\n",
    "        date = datetime.strptime(date_str, '%Y-%m-%dT%H:%M:%S.000Z')\n",
    "    else:\n",
    "        date = \"\"\n",
    "        \n",
    "    ##### LLLLOOOOOOGGGGG!\n",
    "        \n",
    "    return title, authors, tags, date"
   ]
  },
  {
   "cell_type": "code",
   "execution_count": 4,
   "id": "acb57af4-6971-417b-8cde-0863b8198484",
   "metadata": {
    "tags": []
   },
   "outputs": [],
   "source": [
    "def converts_to_html(blog_content):\n",
    "    \n",
    "    blog_content_html = markdown.markdown(blog_content)\n",
    "    \n",
    "    return blog_content_html"
   ]
  },
  {
   "cell_type": "code",
   "execution_count": 5,
   "id": "82346d38-0d22-47f7-994e-e812a60f01a8",
   "metadata": {
    "tags": []
   },
   "outputs": [
    {
     "data": {
      "text/plain": [
       "datetime.datetime(2021, 2, 5, 0, 0)"
      ]
     },
     "execution_count": 5,
     "metadata": {},
     "output_type": "execute_result"
    }
   ],
   "source": [
    "input_file = '/Users/42piratas/Playground/akasha/akasha-blog-migration-to-ghost/TEST1026/index.md'\n",
    "blog_header, blog_content = reads_blog_post(input_file)\n",
    "title, authors, tags, date = gets_metadata(blog_header)\n",
    "date"
   ]
  },
  {
   "cell_type": "code",
   "execution_count": 6,
   "id": "6bc04148-8d26-4abc-8a8b-41e18b8b5e9d",
   "metadata": {
    "tags": []
   },
   "outputs": [
    {
     "data": {
      "text/plain": [
       "datetime.datetime"
      ]
     },
     "execution_count": 6,
     "metadata": {},
     "output_type": "execute_result"
    }
   ],
   "source": [
    "type(date)"
   ]
  },
  {
   "cell_type": "code",
   "execution_count": null,
   "id": "8d4c4594-872c-4ed1-a88c-1303ceaf9689",
   "metadata": {},
   "outputs": [],
   "source": []
  },
  {
   "cell_type": "code",
   "execution_count": null,
   "id": "b4927197-2293-4959-a113-f420f20fa4ee",
   "metadata": {},
   "outputs": [],
   "source": []
  },
  {
   "cell_type": "code",
   "execution_count": 7,
   "id": "1fed7a4c-94db-4f85-bda8-9c35528ada53",
   "metadata": {},
   "outputs": [],
   "source": [
    "# def upload_images(sub_dir_path, title):\n",
    "\n",
    "#     # Replace with your Ghost API URL and access token\n",
    "#     api_url = 'http://localhost:2368/ghost/api/v3'\n",
    "#     access_token = 'YOUR_ACCESS_TOKEN'\n",
    "#     image_extensions = ['.jpg', '.jpeg', '.png', '.gif', '.bmp', '.tiff']\n",
    "\n",
    "#     for file in os.listdir(sub_dir_path):\n",
    "#         file_extension = file.lower().split('.')[-1]\n",
    "#         file_path = os.path.join(sub_dir_path, file)\n",
    "\n",
    "#         if file_extension not in image_extensions:\n",
    "#             # SKIP\n",
    "        \n",
    "#         file_name =  title + \"-\" + file\n",
    "        \n",
    "#         # Create the headers with the access token\n",
    "#         headers = { 'Authorization': f'Ghost {access_token}' }\n",
    "#         # Prepare the data for the image upload\n",
    "#         files = { 'file': (file_name, open(file_path, 'rb')) }\n",
    "#         # Make a POST request to upload the image\n",
    "#         response = requests.post(f'{api_url}/uploads/', headers=headers, files=files)\n",
    "#         # Check the response\n",
    "#         if response.status_code == 201:\n",
    "#             print('Image uploaded successfully!')\n",
    "#             print('Image URL:', response.json()['uploads'][0]['url'])\n",
    "#         else:\n",
    "#             print('Image upload failed. Status code:', response.status_code)\n",
    "#             print('Error:', response.text)"
   ]
  }
 ],
 "metadata": {
  "kernelspec": {
   "display_name": "Python 3 (ipykernel)",
   "language": "python",
   "name": "python3"
  },
  "language_info": {
   "codemirror_mode": {
    "name": "ipython",
    "version": 3
   },
   "file_extension": ".py",
   "mimetype": "text/x-python",
   "name": "python",
   "nbconvert_exporter": "python",
   "pygments_lexer": "ipython3",
   "version": "3.11.2"
  }
 },
 "nbformat": 4,
 "nbformat_minor": 5
}
