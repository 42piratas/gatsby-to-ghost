{
 "cells": [
  {
   "cell_type": "code",
   "execution_count": 1,
   "id": "7b5e55ab-f9a0-41bb-bc58-0df927a201ae",
   "metadata": {
    "tags": []
   },
   "outputs": [],
   "source": [
    "from datetime import datetime\n",
    "import markdown\n",
    "import requests\n",
    "import json\n",
    "import re\n",
    "import os"
   ]
  },
  {
   "cell_type": "code",
   "execution_count": 2,
   "id": "457329e7-7b5a-4cfb-b002-551284694678",
   "metadata": {
    "tags": []
   },
   "outputs": [],
   "source": [
    "def reads_blog_post(input_file):\n",
    "    # Reads original blog post file\n",
    "    # Separates the header from the main content \n",
    "    \n",
    "    with open(input_file, 'r') as file:\n",
    "        blog_content = file.read()\n",
    "        \n",
    "    blog_pieces = blog_content.split('---', 2)\n",
    "\n",
    "    if len(blog_pieces) > 2:\n",
    "        blog_header = blog_pieces[1]\n",
    "        blog_content = '---'.join(blog_pieces[2:])\n",
    "        blog_content = blog_content.lstrip('\\n')\n",
    "    else:\n",
    "        blog_content = \"\"\n",
    "    \n",
    "    ##### LLLLOOOOOOGGGGG!\n",
    "    \n",
    "    return blog_header, blog_content"
   ]
  },
  {
   "cell_type": "code",
   "execution_count": 3,
   "id": "26d7cd4a-7c2d-4722-a365-7846ef3be7d5",
   "metadata": {
    "tags": []
   },
   "outputs": [],
   "source": [
    "def gets_metadata(blog_header):\n",
    "    \n",
    "    # Gets the blog title    \n",
    "    \n",
    "    title_match = re.search(r\"title: ['\\\"]([^'\\\"]*)['\\\"]\", blog_header)\n",
    "    \n",
    "    if title_match:\n",
    "        title = title_match.group(1)\n",
    "    else:\n",
    "        title = \"\"\n",
    "        \n",
    "    # Gets the author\n",
    "    \n",
    "    author_match = re.search(r\"author:[\\s\\S]*?-(.*?)\\n\", blog_header)\n",
    "\n",
    "    if author_match:\n",
    "        authors_block = author_match.group(1)\n",
    "        authors = [author.strip() for author in authors_block.split('\\n')]\n",
    "    else:\n",
    "        authors = []\n",
    "\n",
    "    # Gets Categories/Tags\n",
    "    \n",
    "    categories = re.findall(r\"category:\\s*\\n((?:\\s+-\\s+.+\\n)+)\", blog_header)\n",
    "\n",
    "    if categories:\n",
    "        categories = re.findall(r\"- (.+)\", categories[0])\n",
    "    else:\n",
    "        categories = []\n",
    "        \n",
    "    tags = categories.copy()\n",
    "            \n",
    "    # Get the publishing date\n",
    "    \n",
    "    date_match = re.search(r\"date:\\s*'(\\d{4}-\\d{2}-\\d{2})'\", blog_header)\n",
    "\n",
    "    if date_match:\n",
    "        date_str = date_match.group(1)  # Extract the date string\n",
    "        # Convert the date string to a datetime object\n",
    "        date_obj = datetime.strptime(date_str, '%Y-%m-%d')\n",
    "        date_str = date_obj.strftime('%Y-%m-%dT%H:%M:%S.000Z')\n",
    "        date = datetime.strptime(date_str, '%Y-%m-%dT%H:%M:%S.000Z')\n",
    "    else:\n",
    "        date = \"\"\n",
    "    \n",
    "    # Get the Hero img URL\n",
    "    \n",
    "    hero_url_pattern = r\"hero:\\s*(https?://[^\\s]+)\"\n",
    "    hero_match = re.search(hero_url_pattern, blog_header, re.MULTILINE)\n",
    "\n",
    "    if hero_match:\n",
    "        # Extract the hero URL from the matched string\n",
    "        img_hero = hero_match.group(1)\n",
    "    else:\n",
    "        print(\"Hero URL not found in the Markdown content.\")\n",
    "        \n",
    "    ##### LLLLOOOOOOGGGGG!\n",
    "        \n",
    "    return title, authors, tags, date, img_hero"
   ]
  },
  {
   "cell_type": "code",
   "execution_count": 4,
   "id": "acb57af4-6971-417b-8cde-0863b8198484",
   "metadata": {
    "tags": []
   },
   "outputs": [],
   "source": [
    "def converts_to_html(blog_content):\n",
    "    \n",
    "    blog_content_html = markdown.markdown(blog_content)\n",
    "    \n",
    "    return blog_content_html"
   ]
  }
 ],
 "metadata": {
  "kernelspec": {
   "display_name": "Python 3 (ipykernel)",
   "language": "python",
   "name": "python3"
  },
  "language_info": {
   "codemirror_mode": {
    "name": "ipython",
    "version": 3
   },
   "file_extension": ".py",
   "mimetype": "text/x-python",
   "name": "python",
   "nbconvert_exporter": "python",
   "pygments_lexer": "ipython3",
   "version": "3.11.2"
  }
 },
 "nbformat": 4,
 "nbformat_minor": 5
}
