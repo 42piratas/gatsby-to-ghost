{
 "cells": [
  {
   "cell_type": "code",
   "execution_count": 1,
   "id": "620a3302-4e24-4d7b-b09d-4f804e489d8a",
   "metadata": {},
   "outputs": [],
   "source": [
    "import requests\n",
    "import json"
   ]
  },
  {
   "cell_type": "code",
   "execution_count": 2,
   "id": "b615d24b-b993-4b44-a198-685e43052984",
   "metadata": {},
   "outputs": [],
   "source": [
    "%run generates_ghost_token.ipynb\n",
    "token = generate_token()"
   ]
  },
  {
   "cell_type": "code",
   "execution_count": 3,
   "id": "70031345-f765-4d68-857e-f5fbb1f4e692",
   "metadata": {},
   "outputs": [],
   "source": [
    "with open('secrets.json', 'r') as file:\n",
    "    json_content = json.load(file)\n",
    "    \n",
    "GHOST_API_URL = json_content[\"api_url\"]"
   ]
  },
  {
   "cell_type": "code",
   "execution_count": 4,
   "id": "95adf93a-5e1c-45d6-a056-9e076464c5c8",
   "metadata": {},
   "outputs": [],
   "source": [
    "# Define the endpoint for uploading an image\n",
    "endpoint = f'{GHOST_API_URL}images/upload/'"
   ]
  },
  {
   "cell_type": "code",
   "execution_count": 5,
   "id": "882cc11f-cc42-4adb-9627-d630ed172aa5",
   "metadata": {},
   "outputs": [],
   "source": [
    "# Define the headers with the access token and content type\n",
    "headers = {\n",
    "    'Authorization': f'Ghost {token}',\n",
    "    'Content-Type': 'multipart/form-data;',\n",
    "    }"
   ]
  },
  {
   "cell_type": "code",
   "execution_count": 6,
   "id": "ac03b1e3-a46c-4d6d-95f3-a0cb085ba0c9",
   "metadata": {},
   "outputs": [],
   "source": [
    "image_path = '/Users/42piratas/Playground/akasha/akasha-blog-migration-to-ghost/TEST1026/test.jpg'"
   ]
  },
  {
   "cell_type": "code",
   "execution_count": 7,
   "id": "fe397750-0657-44d5-b53b-2d1e9d1ca78b",
   "metadata": {},
   "outputs": [
    {
     "name": "stdout",
     "output_type": "stream",
     "text": [
      "Failed to upload image. Status code: <Response [422]>\n"
     ]
    }
   ],
   "source": [
    "# Open the image file for reading\n",
    "with open(image_path, 'rb') as image_file:\n",
    "    # Create a file object to send as data\n",
    "    files = {'file': (image_path, image_file)}\n",
    "\n",
    "    # Make a POST request to upload the image\n",
    "    response = requests.post(endpoint, headers=headers, files=files)\n",
    "\n",
    "    # Check if the request was successful\n",
    "    if response.status_code == 201:\n",
    "        # Parse the JSON response to get the image URL\n",
    "        image_url = response.json()['url']\n",
    "        print(image_url)\n",
    "    else:\n",
    "        # Handle the error\n",
    "        print(f'Failed to upload image. Status code: {response.status_code}')"
   ]
  },
  {
   "cell_type": "code",
   "execution_count": null,
   "id": "1b792109-c9c3-445f-a468-763927b39c06",
   "metadata": {},
   "outputs": [],
   "source": []
  }
 ],
 "metadata": {
  "kernelspec": {
   "display_name": "Python 3 (ipykernel)",
   "language": "python",
   "name": "python3"
  },
  "language_info": {
   "codemirror_mode": {
    "name": "ipython",
    "version": 3
   },
   "file_extension": ".py",
   "mimetype": "text/x-python",
   "name": "python",
   "nbconvert_exporter": "python",
   "pygments_lexer": "ipython3",
   "version": "3.11.2"
  }
 },
 "nbformat": 4,
 "nbformat_minor": 5
}
