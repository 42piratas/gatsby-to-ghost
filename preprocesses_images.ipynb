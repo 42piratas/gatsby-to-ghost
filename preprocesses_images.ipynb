{
 "cells": [
  {
   "cell_type": "code",
   "execution_count": 1,
   "id": "90008f83-2e80-49da-8a47-2f12aaa23ed0",
   "metadata": {},
   "outputs": [],
   "source": [
    "import os\n",
    "import re\n",
    "import logging"
   ]
  },
  {
   "cell_type": "code",
   "execution_count": 2,
   "id": "aa3043dd-2638-42d2-9141-40c4b3955423",
   "metadata": {
    "tags": []
   },
   "outputs": [],
   "source": [
    "%run uploads_images_to_ghost.ipynb"
   ]
  },
  {
   "cell_type": "code",
   "execution_count": 3,
   "id": "9a3bada3-274a-4125-8252-e1917deb72fe",
   "metadata": {},
   "outputs": [],
   "source": [
    "logging.basicConfig(\n",
    "    level=logging.INFO, \n",
    "    format='%(asctime)s - %(levelname)s - %(message)s',\n",
    "    datefmt='%Y-%m-%d %H:%M:%S',\n",
    "    filename='log_preprocessing_images.log'\n",
    ")"
   ]
  },
  {
   "cell_type": "code",
   "execution_count": 4,
   "id": "d54b0f68-dfff-4e9f-97b4-1145b2d3ea72",
   "metadata": {},
   "outputs": [],
   "source": [
    "origin_directory = '/Users/42piratas/Playground/gatsby-to-ghost/origin/'\n",
    "image_extensions = ['.jpg', '.jpeg', '.png', '.gif', '.bmp', '.tiff', '.webp']"
   ]
  },
  {
   "cell_type": "code",
   "execution_count": 5,
   "id": "46830eb9-3c97-4110-9c55-3919141c575a",
   "metadata": {},
   "outputs": [],
   "source": [
    "def rename_img(old_img_name, sub_dir, sub_dir_path):\n",
    "    \n",
    "    new_img_name = sub_dir + \"-\" + file.lower()\n",
    "    old_img_path = os.path.join(sub_dir_path, old_img_name)\n",
    "    new_img_path = os.path.join(sub_dir_path, new_img_name)\n",
    "    os.rename(old_img_path, new_img_path)    \n",
    "    \n",
    "    logging.info(f'img renamed: {sub_dir}: {old_img_name} ---> {new_img_name}')\n",
    "    \n",
    "    return old_img_path, old_img_name, new_img_path, new_img_name"
   ]
  },
  {
   "cell_type": "code",
   "execution_count": 6,
   "id": "7bfab3f6-88cb-4a7d-8286-bbb9613021b9",
   "metadata": {},
   "outputs": [],
   "source": [
    "# Define the function to replace image paths with URLs\n",
    "def replace_image_paths_with_url(sub_dir, sub_dir_path, old_img_name, image_url):\n",
    "    md_file_path = os.path.join(sub_dir_path, 'index.md')\n",
    "\n",
    "    # Read the content of the Markdown file\n",
    "    with open(md_file_path, 'r') as file:\n",
    "        md_content = file.read()\n",
    "\n",
    "    # Define a regular expression pattern to match image locations\n",
    "    image_path_pattern = re.compile(r\"!\\[[^\\]]*\\]\\((.*?)\\)\")\n",
    "\n",
    "    # Use re.sub to replace the old image locations with the new image URL\n",
    "    def replace_image(match):\n",
    "        image_path = match.group(1)\n",
    "        if image_path.endswith(old_img_name) or image_path.endswith(f\"./{old_img_name}\"):\n",
    "            new_path = image_url\n",
    "            return match.group().replace(image_path, new_path)\n",
    "        else:\n",
    "            return match.group()\n",
    "\n",
    "    modified_content = image_path_pattern.sub(replace_image, md_content)\n",
    "\n",
    "    # Special handling for the hero image\n",
    "    modified_content = modified_content.replace(f\"hero: ./{old_img_name}\", f\"hero: {image_url}\")\n",
    "\n",
    "    # Write the modified content back to the file\n",
    "    with open(md_file_path, 'w') as file:\n",
    "        file.write(modified_content)\n",
    "        logging.info(f'md updated: {sub_dir}: {old_img_name} ---> {image_url}')"
   ]
  },
  {
   "cell_type": "code",
   "execution_count": 7,
   "id": "c9f61fba-6be0-4501-a0da-27601923b798",
   "metadata": {
    "tags": []
   },
   "outputs": [],
   "source": [
    "for sub_dir in os.listdir(origin_directory):\n",
    "    \n",
    "    sub_dir_path = os.path.join(origin_directory, sub_dir)\n",
    "    \n",
    "    if os.path.isdir(sub_dir_path):\n",
    "        \n",
    "        for file in os.listdir(sub_dir_path):\n",
    "            file_extension = os.path.splitext(file)[-1].lower()    \n",
    "            \n",
    "            if file_extension in image_extensions:\n",
    "                old_img_path, old_img_name, new_img_path, new_img_name = rename_img(file, sub_dir, sub_dir_path)\n",
    "                image_url = uploads_img(sub_dir, new_img_path, new_img_name)\n",
    "\n",
    "                if not image_url:\n",
    "                    logging.error(f'ERROR IMAGE ---> {new_img_path}')\n",
    "                    continue\n",
    "\n",
    "                replace_image_paths_with_url(sub_dir, sub_dir_path, old_img_name, image_url)"
   ]
  }
 ],
 "metadata": {
  "kernelspec": {
   "display_name": "Python 3 (ipykernel)",
   "language": "python",
   "name": "python3"
  },
  "language_info": {
   "codemirror_mode": {
    "name": "ipython",
    "version": 3
   },
   "file_extension": ".py",
   "mimetype": "text/x-python",
   "name": "python",
   "nbconvert_exporter": "python",
   "pygments_lexer": "ipython3",
   "version": "3.11.2"
  }
 },
 "nbformat": 4,
 "nbformat_minor": 5
}
