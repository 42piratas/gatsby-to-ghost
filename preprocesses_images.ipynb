{
 "cells": [
  {
   "cell_type": "code",
   "execution_count": null,
   "id": "90008f83-2e80-49da-8a47-2f12aaa23ed0",
   "metadata": {},
   "outputs": [],
   "source": [
    "import os"
   ]
  },
  {
   "cell_type": "code",
   "execution_count": 1,
   "id": "aa3043dd-2638-42d2-9141-40c4b3955423",
   "metadata": {
    "tags": []
   },
   "outputs": [],
   "source": [
    "%run uploads_images_to_ghost.ipynb"
   ]
  },
  {
   "cell_type": "code",
   "execution_count": null,
   "id": "d54b0f68-dfff-4e9f-97b4-1145b2d3ea72",
   "metadata": {},
   "outputs": [],
   "source": []
  },
  {
   "cell_type": "code",
   "execution_count": null,
   "id": "c9f61fba-6be0-4501-a0da-27601923b798",
   "metadata": {},
   "outputs": [],
   "source": []
  },
  {
   "cell_type": "code",
   "execution_count": null,
   "id": "764dea32-a79b-4177-b5d7-482a7b3b7112",
   "metadata": {},
   "outputs": [],
   "source": []
  },
  {
   "cell_type": "code",
   "execution_count": null,
   "id": "8ab5f144-7350-4888-9f20-bf57e5234460",
   "metadata": {},
   "outputs": [],
   "source": []
  },
  {
   "cell_type": "code",
   "execution_count": null,
   "id": "89e39309-7626-4465-a4ac-92338cd2bc11",
   "metadata": {},
   "outputs": [],
   "source": []
  },
  {
   "cell_type": "code",
   "execution_count": null,
   "id": "a1c14b0e-af64-483b-bbda-cbaceae5039a",
   "metadata": {},
   "outputs": [],
   "source": []
  },
  {
   "cell_type": "code",
   "execution_count": null,
   "id": "f76b69ed-e750-4e71-8154-52082625c88a",
   "metadata": {},
   "outputs": [],
   "source": [
    "# image_path = '/Users/42piratas/Playground/akasha/akasha-blog-migration-to-ghost/TEST1026/test.jpg'\n",
    "# uploads_img(image_path)"
   ]
  }
 ],
 "metadata": {
  "kernelspec": {
   "display_name": "Python 3 (ipykernel)",
   "language": "python",
   "name": "python3"
  },
  "language_info": {
   "codemirror_mode": {
    "name": "ipython",
    "version": 3
   },
   "file_extension": ".py",
   "mimetype": "text/x-python",
   "name": "python",
   "nbconvert_exporter": "python",
   "pygments_lexer": "ipython3",
   "version": "3.11.2"
  }
 },
 "nbformat": 4,
 "nbformat_minor": 5
}
