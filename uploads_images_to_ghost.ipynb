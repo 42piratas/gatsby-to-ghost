{
 "cells": [
  {
   "cell_type": "code",
   "execution_count": 1,
   "id": "620a3302-4e24-4d7b-b09d-4f804e489d8a",
   "metadata": {},
   "outputs": [],
   "source": [
    "import requests\n",
    "import json"
   ]
  },
  {
   "cell_type": "code",
   "execution_count": 2,
   "id": "161b175c-5f47-4e43-b6a1-5b8463c91c3c",
   "metadata": {},
   "outputs": [],
   "source": [
    "with open('secrets.json', 'r') as file:\n",
    "    json_content = json.load(file)\n",
    "        \n",
    "%run generates_ghost_token.ipynb\n",
    "token = generate_token()"
   ]
  },
  {
   "cell_type": "code",
   "execution_count": 3,
   "id": "b615d24b-b993-4b44-a198-685e43052984",
   "metadata": {},
   "outputs": [],
   "source": [
    "def uploads_img(img_path):\n",
    "    \n",
    "    GHOST_API_URL = json_content[\"api_url\"]\n",
    "    \n",
    "    # Define the endpoint for uploading an image\n",
    "    endpoint = f'{GHOST_API_URL}images/upload/'\n",
    "    \n",
    "    # Define the headers with the access token and content type\n",
    "    headers = { 'Authorization': f'Ghost {token}' }\n",
    "\n",
    "    # Open the image file for reading\n",
    "    with open(image_path, 'rb') as image_file:\n",
    "        # Create a file object to send as data\n",
    "        files = {'file': (image_path, image_file, 'image/jpeg')}\n",
    "\n",
    "        # Make a POST request to upload the image\n",
    "        response = requests.post(endpoint, headers=headers, files=files)\n",
    "\n",
    "        # Check if the request was successful\n",
    "        if response.status_code == 201:\n",
    "            # Parse the JSON response to get the image URL\n",
    "            image_url = response.json()['images'][0]['url']\n",
    "            print(f'Successful: {image_url}')\n",
    "        else:\n",
    "            # Handle the error\n",
    "            print(f'Failed to upload image. Status code: {response.status_code}')"
   ]
  }
 ],
 "metadata": {
  "kernelspec": {
   "display_name": "Python 3 (ipykernel)",
   "language": "python",
   "name": "python3"
  },
  "language_info": {
   "codemirror_mode": {
    "name": "ipython",
    "version": 3
   },
   "file_extension": ".py",
   "mimetype": "text/x-python",
   "name": "python",
   "nbconvert_exporter": "python",
   "pygments_lexer": "ipython3",
   "version": "3.11.2"
  }
 },
 "nbformat": 4,
 "nbformat_minor": 5
}
