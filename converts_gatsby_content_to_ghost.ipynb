{
 "cells": [
  {
   "cell_type": "code",
   "execution_count": 1,
   "id": "7b5e55ab-f9a0-41bb-bc58-0df927a201ae",
   "metadata": {
    "tags": []
   },
   "outputs": [],
   "source": [
    "from mobiledoc import Mobiledoc\n",
    "from datetime import datetime\n",
    "import requests\n",
    "import json\n",
    "import re\n",
    "import os"
   ]
  },
  {
   "cell_type": "code",
   "execution_count": 2,
   "id": "457329e7-7b5a-4cfb-b002-551284694678",
   "metadata": {
    "tags": []
   },
   "outputs": [],
   "source": [
    "def reads_blog_post(input_file):\n",
    "    # Reads original blog post file\n",
    "    # Separates the header from the main content \n",
    "    \n",
    "    with open(input_file, 'r') as file:\n",
    "        blog_content = file.read()\n",
    "        \n",
    "    blog_pieces = blog_content.split('---', 2)\n",
    "\n",
    "    if len(blog_pieces) > 2:\n",
    "        blog_header = blog_pieces[1]\n",
    "        blog_content = '---'.join(blog_pieces[2:])\n",
    "        blog_content = blog_content.lstrip('\\n')\n",
    "    else:\n",
    "        blog_content = \"\"\n",
    "    \n",
    "    ##### LLLLOOOOOOGGGGG!\n",
    "    \n",
    "    return blog_header, blog_content"
   ]
  },
  {
   "cell_type": "code",
   "execution_count": 3,
   "id": "26d7cd4a-7c2d-4722-a365-7846ef3be7d5",
   "metadata": {
    "tags": []
   },
   "outputs": [],
   "source": [
    "def gets_metadata(blog_header):\n",
    "    \n",
    "    # Gets the blog title    \n",
    "    \n",
    "    title_match = re.search(r\"title: ['\\\"]([^'\\\"]*)['\\\"]\", blog_header)\n",
    "    \n",
    "    if title_match:\n",
    "        title = title_match.group(1)\n",
    "    else:\n",
    "        title = \"\"\n",
    "        \n",
    "    # Gets the author\n",
    "    \n",
    "    author_match = re.search(r\"author:[\\s\\S]*?-(.*?)\\n\", blog_header)\n",
    "\n",
    "    if author_match:\n",
    "        authors_block = author_match.group(1)\n",
    "        authors = [author.strip() for author in authors_block.split('\\n')]\n",
    "    else:\n",
    "        authors = []\n",
    "\n",
    "    # Gets Categories/Tags\n",
    "    \n",
    "    categories = re.findall(r\"category:\\s*\\n((?:\\s+-\\s+.+\\n)+)\", blog_header)\n",
    "\n",
    "    if categories:\n",
    "        categories = re.findall(r\"- (.+)\", categories[0])\n",
    "    else:\n",
    "        categories = []\n",
    "        \n",
    "    tags = categories.copy()\n",
    "            \n",
    "    # Get the publishing date\n",
    "    \n",
    "    date_match = re.search(r\"date:\\s*'(\\d{4}-\\d{2}-\\d{2})'\", blog_header)\n",
    "\n",
    "    if date_match:\n",
    "        date_str = date_match.group(1)  # Extract the date string\n",
    "        # Convert the date string to a datetime object\n",
    "        date_obj = datetime.strptime(date_str, '%Y-%m-%d')\n",
    "        # Convert the datetime object to a Unix timestamp (seconds since epoch)\n",
    "        unix_timestamp = int(date_obj.timestamp())\n",
    "    else:\n",
    "        unix_timestamp = \"\"\n",
    "        \n",
    "    ##### LLLLOOOOOOGGGGG!\n",
    "        \n",
    "    return title, authors, tags, unix_timestamp"
   ]
  },
  {
   "cell_type": "code",
   "execution_count": 4,
   "id": "a464a8cb-3aca-44a1-9d66-5d7ed524daff",
   "metadata": {
    "tags": []
   },
   "outputs": [],
   "source": [
    "# def convert_to_mobiledoc(title, authors, tags, blog_content, unix_timestamp):\n",
    "#     # Converts content to Mobiledoc\n",
    "#     # https://pypi.org/project/mobiledoc\n",
    "\n",
    "#     mobiledoc = Mobiledoc()\n",
    "#     mobiledoc.add_formatted_text(blog_content)\n",
    "#     mobiledoc = mobiledoc.serialize()  \n",
    "\n",
    "#     new_blog_content = {\n",
    "#         \"title\": title,\n",
    "#         \"authors\": authors,\n",
    "#         \"tags\": tags,\n",
    "#         \"mobiledoc\": {\n",
    "#             \"version\": \"0.3.1\",\n",
    "#             \"atoms\": [],\n",
    "#             \"cards\": [],\n",
    "#             \"markups\": [],\n",
    "#             \"sections\": [\n",
    "#                 [1, \"p\", [[0, [], 0, mobiledoc]]]\n",
    "#             ]\n",
    "#         },\n",
    "#         \"status\": \"draft\",\n",
    "#         \"published_at\": unix_timestamp\n",
    "#     }\n",
    "    \n",
    "#     return new_blog_content"
   ]
  },
  {
   "cell_type": "code",
   "execution_count": 5,
   "id": "1fed7a4c-94db-4f85-bda8-9c35528ada53",
   "metadata": {},
   "outputs": [],
   "source": [
    "# def upload_images(sub_dir_path, title):\n",
    "\n",
    "#     # Replace with your Ghost API URL and access token\n",
    "#     api_url = 'http://localhost:2368/ghost/api/v3'\n",
    "#     access_token = 'YOUR_ACCESS_TOKEN'\n",
    "#     image_extensions = ['.jpg', '.jpeg', '.png', '.gif', '.bmp', '.tiff']\n",
    "\n",
    "#     for file in os.listdir(sub_dir_path):\n",
    "#         file_extension = file.lower().split('.')[-1]\n",
    "#         file_path = os.path.join(sub_dir_path, file)\n",
    "\n",
    "#         if file_extension not in image_extensions:\n",
    "#             # SKIP\n",
    "        \n",
    "#         file_name =  title + \"-\" + file\n",
    "        \n",
    "#         # Create the headers with the access token\n",
    "#         headers = { 'Authorization': f'Ghost {access_token}' }\n",
    "#         # Prepare the data for the image upload\n",
    "#         files = { 'file': (file_name, open(file_path, 'rb')) }\n",
    "#         # Make a POST request to upload the image\n",
    "#         response = requests.post(f'{api_url}/uploads/', headers=headers, files=files)\n",
    "#         # Check the response\n",
    "#         if response.status_code == 201:\n",
    "#             print('Image uploaded successfully!')\n",
    "#             print('Image URL:', response.json()['uploads'][0]['url'])\n",
    "#         else:\n",
    "#             print('Image upload failed. Status code:', response.status_code)\n",
    "#             print('Error:', response.text)"
   ]
  },
  {
   "cell_type": "code",
   "execution_count": 6,
   "id": "e8b2c729-9a0c-476b-98f5-b7392fef1162",
   "metadata": {},
   "outputs": [],
   "source": [
    "# def save_new_file(new_blog_content):\n",
    "#     # Save mobiledoc json\n",
    "\n",
    "#     with open(output_file, 'w') as f:\n",
    "#         json.dump(new_blog_content, f, indent=4) "
   ]
  }
 ],
 "metadata": {
  "kernelspec": {
   "display_name": "Python 3 (ipykernel)",
   "language": "python",
   "name": "python3"
  },
  "language_info": {
   "codemirror_mode": {
    "name": "ipython",
    "version": 3
   },
   "file_extension": ".py",
   "mimetype": "text/x-python",
   "name": "python",
   "nbconvert_exporter": "python",
   "pygments_lexer": "ipython3",
   "version": "3.11.2"
  }
 },
 "nbformat": 4,
 "nbformat_minor": 5
}
