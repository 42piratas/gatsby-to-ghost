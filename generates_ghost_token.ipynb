{
 "cells": [
  {
   "cell_type": "code",
   "execution_count": 1,
   "id": "3241a154-d58e-4807-9fcb-25741cb4de6d",
   "metadata": {
    "tags": []
   },
   "outputs": [],
   "source": [
    "import requests\n",
    "import jwt\t\n",
    "import json\n",
    "from datetime import datetime as date"
   ]
  },
  {
   "cell_type": "code",
   "execution_count": 2,
   "id": "42feedcf-767e-4fcd-9869-67a54a36731d",
   "metadata": {},
   "outputs": [],
   "source": [
    "with open('secrets.json', 'r') as file:\n",
    "    json_content = json.load(file)\n",
    "    \n",
    "key = json_content[\"key\"]\n",
    "id, secret = key.split(':')"
   ]
  },
  {
   "cell_type": "code",
   "execution_count": 3,
   "id": "d3414edd-02cb-4751-9f08-6777751c20cd",
   "metadata": {},
   "outputs": [],
   "source": [
    "# Prepare header and payload\n",
    "iat = int(date.now().timestamp())\n",
    "\n",
    "header = {'alg': 'HS256', 'typ': 'JWT', 'kid': id}\n",
    "payload = {\n",
    "    'iat': iat,\n",
    "    'exp': iat + 5 * 60,\n",
    "    'aud': '/admin/'\n",
    "}"
   ]
  },
  {
   "cell_type": "code",
   "execution_count": 4,
   "id": "d15b0bef-bee2-457d-a87b-54f767fed5d0",
   "metadata": {},
   "outputs": [],
   "source": [
    "def generate_token():\n",
    "    # Create the token (including decoding secret)\n",
    "    token = jwt.encode(payload, bytes.fromhex(secret), algorithm='HS256', headers=header)\n",
    "    return token"
   ]
  },
  {
   "cell_type": "code",
   "execution_count": null,
   "id": "fde72b72-82fa-4243-8b5d-936660064129",
   "metadata": {},
   "outputs": [],
   "source": []
  }
 ],
 "metadata": {
  "kernelspec": {
   "display_name": "Python 3 (ipykernel)",
   "language": "python",
   "name": "python3"
  },
  "language_info": {
   "codemirror_mode": {
    "name": "ipython",
    "version": 3
   },
   "file_extension": ".py",
   "mimetype": "text/x-python",
   "name": "python",
   "nbconvert_exporter": "python",
   "pygments_lexer": "ipython3",
   "version": "3.11.2"
  }
 },
 "nbformat": 4,
 "nbformat_minor": 5
}
