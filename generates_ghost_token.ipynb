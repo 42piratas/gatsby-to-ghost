{
 "cells": [
  {
   "cell_type": "code",
   "execution_count": 1,
   "id": "3241a154-d58e-4807-9fcb-25741cb4de6d",
   "metadata": {
    "tags": []
   },
   "outputs": [],
   "source": [
    "import requests\n",
    "import jwt\t\n",
    "import json\n",
    "import os\n",
    "from datetime import datetime as date"
   ]
  },
  {
   "cell_type": "code",
   "execution_count": null,
   "id": "ceed3ff8-f228-47d1-ac70-bbb4a37efc89",
   "metadata": {},
   "outputs": [],
   "source": [
    "from dotenv import load_dotenv\n",
    "load_dotenv(\"secrets.env\")\n",
    "\n",
    "API_URL = os.environ.get('API_URL')\n",
    "API_KEY = os.environ.get('API_KEY')\n",
    "SOURCE_PATH = os.environ.get('SOURCE_PATH')"
   ]
  },
  {
   "cell_type": "code",
   "execution_count": 2,
   "id": "42feedcf-767e-4fcd-9869-67a54a36731d",
   "metadata": {},
   "outputs": [],
   "source": [
    "id, secret = API_KEY.split(':')"
   ]
  },
  {
   "cell_type": "code",
   "execution_count": 4,
   "id": "d15b0bef-bee2-457d-a87b-54f767fed5d0",
   "metadata": {},
   "outputs": [],
   "source": [
    "def generate_token():\n",
    "    \n",
    "    # Prepare header and payload\n",
    "    iat = int(date.now().timestamp())\n",
    "\n",
    "    header = {'alg': 'HS256', 'typ': 'JWT', 'kid': id}\n",
    "    payload = {\n",
    "        'iat': iat,\n",
    "        'exp': iat + 5 * 60,\n",
    "        'aud': '/admin/'\n",
    "    }\n",
    "\n",
    "    # Create the token (including decoding secret)\n",
    "    token = jwt.encode(payload, bytes.fromhex(secret), algorithm='HS256', headers=header)\n",
    "    return token"
   ]
  }
 ],
 "metadata": {
  "kernelspec": {
   "display_name": "Python 3 (ipykernel)",
   "language": "python",
   "name": "python3"
  },
  "language_info": {
   "codemirror_mode": {
    "name": "ipython",
    "version": 3
   },
   "file_extension": ".py",
   "mimetype": "text/x-python",
   "name": "python",
   "nbconvert_exporter": "python",
   "pygments_lexer": "ipython3",
   "version": "3.11.2"
  }
 },
 "nbformat": 4,
 "nbformat_minor": 5
}
