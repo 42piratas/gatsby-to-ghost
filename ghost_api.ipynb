{
 "cells": [
  {
   "cell_type": "code",
   "execution_count": 1,
   "id": "b2358a62-cac7-4d31-ae67-ea3724912bcb",
   "metadata": {
    "tags": []
   },
   "outputs": [],
   "source": [
    "import requests"
   ]
  },
  {
   "cell_type": "code",
   "execution_count": null,
   "id": "2467fc85-12eb-4dff-a857-5bfef232d474",
   "metadata": {},
   "outputs": [],
   "source": [
    "GHOST_API_URL = \"https://akasha.ghost.io/ghost/api/admin/\"\n",
    "ACCESS_TOKEN = "
   ]
  },
  {
   "cell_type": "code",
   "execution_count": 1,
   "id": "1e0f18ef-61be-43f0-ae49-cadfa2973deb",
   "metadata": {
    "tags": []
   },
   "outputs": [],
   "source": [
    "def create_blog_post(title, content):\n",
    "    # Define the endpoint for creating a new post\n",
    "    endpoint = f'{GHOST_API_URL}/posts/'\n",
    "\n",
    "    # Define the headers with the access token and content type\n",
    "    headers = {\n",
    "        'Authorization': f'Bearer {ACCESS_TOKEN}',\n",
    "        'Content-Type': 'application/json',\n",
    "        'X-Ghost-Markdown': 'true',  # Specify that the content is in markdown format\n",
    "    }\n",
    "\n",
    "    # Define the data for the new blog post\n",
    "    data = {\n",
    "        'posts': [\n",
    "            {\n",
    "                'title': title,\n",
    "                'markdown': content,  # Use the 'markdown' field for markdown content\n",
    "                # Add any other required fields here\n",
    "            }\n",
    "        ]\n",
    "    }\n",
    "\n",
    "    # Make a POST request to create the new post\n",
    "    response = requests.post(endpoint, json=data, headers=headers)\n",
    "\n",
    "    # Check if the request was successful\n",
    "    if response.status_code == 201:\n",
    "        print(f'Successfully created blog post: {title}')\n",
    "    else:\n",
    "        print(f'Failed to create blog post: {title}')\n",
    "        print(f'Response status code: {response.status_code}')\n",
    "        print(f'Response content: {response.text}')"
   ]
  },
  {
   "cell_type": "code",
   "execution_count": null,
   "id": "9f809330-ddb8-4544-8330-7c5854bbd59c",
   "metadata": {},
   "outputs": [],
   "source": [
    "# Example usage:\n",
    "title = 'My New Blog Post'\n",
    "content = '<p>This is the content of my new blog post.</p>'\n",
    "create_blog_post(title, content)"
   ]
  }
 ],
 "metadata": {
  "kernelspec": {
   "display_name": "Python 3 (ipykernel)",
   "language": "python",
   "name": "python3"
  },
  "language_info": {
   "codemirror_mode": {
    "name": "ipython",
    "version": 3
   },
   "file_extension": ".py",
   "mimetype": "text/x-python",
   "name": "python",
   "nbconvert_exporter": "python",
   "pygments_lexer": "ipython3",
   "version": "3.11.2"
  }
 },
 "nbformat": 4,
 "nbformat_minor": 5
}
