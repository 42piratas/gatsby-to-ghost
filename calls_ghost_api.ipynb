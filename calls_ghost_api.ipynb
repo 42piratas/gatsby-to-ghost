{
 "cells": [
  {
   "cell_type": "code",
   "execution_count": 1,
   "id": "b2358a62-cac7-4d31-ae67-ea3724912bcb",
   "metadata": {
    "tags": []
   },
   "outputs": [],
   "source": [
    "import requests\n",
    "import json\n",
    "import logging"
   ]
  },
  {
   "cell_type": "code",
   "execution_count": null,
   "id": "2fc681a9-c4bd-41bd-ba26-94e844c1f383",
   "metadata": {},
   "outputs": [],
   "source": [
    "logging.basicConfig(\n",
    "    level=logging.INFO, \n",
    "    format='%(asctime)s - %(levelname)s - %(message)s',\n",
    "    datefmt='%Y-%m-%d %H:%M:%S',\n",
    "    filename='log_gatsby_to_ghost.log'\n",
    ")"
   ]
  },
  {
   "cell_type": "code",
   "execution_count": 2,
   "id": "456683b2-6d84-4847-bcad-5543fe3bc13b",
   "metadata": {},
   "outputs": [],
   "source": [
    "with open('secrets.json', 'r') as file:\n",
    "    json_content = json.load(file)\n",
    "    \n",
    "GHOST_API_URL = json_content[\"api_url\"]"
   ]
  },
  {
   "cell_type": "code",
   "execution_count": 3,
   "id": "1e0f18ef-61be-43f0-ae49-cadfa2973deb",
   "metadata": {
    "tags": []
   },
   "outputs": [],
   "source": [
    "def create_blog_post(token, slug, title, authors, tags, date, img_hero, blog_content_html):\n",
    "    \n",
    "    # Define the endpoint for creating a new post\n",
    "    endpoint = f'{GHOST_API_URL}/posts/?source=html'\n",
    "\n",
    "    # Define the headers with the access token and content type\n",
    "    headers = {\n",
    "        'Authorization': f'Ghost {token}',\n",
    "        'Content-Type': 'application/json',\n",
    "    }\n",
    "\n",
    "    # Define the data for the new blog post\n",
    "    \n",
    "    date_str = date.strftime('%Y-%m-%dT%H:%M:%S.000Z')\n",
    "    \n",
    "    data_content = {\n",
    "        \"title\": title,\n",
    "        \"slug\": slug,\n",
    "        \"authors\": authors,\n",
    "        \"tags\": tags,\n",
    "        \"status\": \"published\",\n",
    "        \"visibility\": \"public\",\n",
    "        \"published_at\": date_str,\n",
    "        \"feature_image\": img_hero,\n",
    "        \"html\": blog_content_html\n",
    "    }\n",
    "\n",
    "    # Converts to dict\n",
    "    data_dict = {\n",
    "        \"posts\": [data_content]\n",
    "    }\n",
    "    \n",
    "    # Converts to json\n",
    "    data_json = json.dumps(data_dict)\n",
    "\n",
    "    # Make a POST request to create the new post\n",
    "    response = requests.post(endpoint, json=data_dict, headers=headers)\n",
    "\n",
    "    # Check if the request was successful\n",
    "    if response.status_code == 201:\n",
    "        logging.info(f'UPLOADED ---> {title}')\n",
    "        final = \"SUCCESS\"\n",
    "    else:\n",
    "        logging.error(f'ERROR UPLOAD ---> {title}')\n",
    "        logging.error(f'ERROR CODE ---> {response.status_code}')\n",
    "        logging.error(f'ERROR CONTENT ---> {response.text}')\n",
    "        final = \"\"\n",
    "        \n",
    "    return final"
   ]
  }
 ],
 "metadata": {
  "kernelspec": {
   "display_name": "Python 3 (ipykernel)",
   "language": "python",
   "name": "python3"
  },
  "language_info": {
   "codemirror_mode": {
    "name": "ipython",
    "version": 3
   },
   "file_extension": ".py",
   "mimetype": "text/x-python",
   "name": "python",
   "nbconvert_exporter": "python",
   "pygments_lexer": "ipython3",
   "version": "3.11.2"
  }
 },
 "nbformat": 4,
 "nbformat_minor": 5
}
