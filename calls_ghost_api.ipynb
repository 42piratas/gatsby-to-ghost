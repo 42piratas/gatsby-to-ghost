{
 "cells": [
  {
   "cell_type": "code",
   "execution_count": 1,
   "id": "b2358a62-cac7-4d31-ae67-ea3724912bcb",
   "metadata": {
    "tags": []
   },
   "outputs": [],
   "source": [
    "import requests\n",
    "import json"
   ]
  },
  {
   "cell_type": "code",
   "execution_count": 2,
   "id": "456683b2-6d84-4847-bcad-5543fe3bc13b",
   "metadata": {},
   "outputs": [],
   "source": [
    "with open('secrets.json', 'r') as file:\n",
    "    json_content = json.load(file)\n",
    "    \n",
    "GHOST_API_URL = json_content[\"api_url\"]"
   ]
  },
  {
   "cell_type": "code",
   "execution_count": 3,
   "id": "1e0f18ef-61be-43f0-ae49-cadfa2973deb",
   "metadata": {
    "tags": []
   },
   "outputs": [],
   "source": [
    "def create_blog_post(token, title, authors, tags, blog_content_html):\n",
    "    \n",
    "    # Define the endpoint for creating a new post\n",
    "    endpoint = f'{GHOST_API_URL}/posts/?source=html'\n",
    "\n",
    "    # Define the headers with the access token and content type\n",
    "    headers = {\n",
    "        'Authorization': f'Ghost {token}',\n",
    "        'Content-Type': 'application/json',\n",
    " #       'X-Ghost-Markdown': 'true',  # Specify that the content is in markdown format\n",
    "    }\n",
    "\n",
    "    # Define the data for the new blog post\n",
    "    data_content = {\n",
    "        \"title\": title,\n",
    "        \"authors\": authors,\n",
    "        \"tags\": tags,\n",
    "        \"status\": \"draft\",\n",
    "        \"html\": blog_content_html\n",
    "    }\n",
    "\n",
    "    # Converts to dict\n",
    "    data_dict = {\n",
    "        \"posts\": [data_content]\n",
    "    }\n",
    "    \n",
    "    # Converts to json\n",
    "    data_json = json.dumps(data_dict)\n",
    "\n",
    "    # Make a POST request to create the new post\n",
    "    response = requests.post(endpoint, json=data_dict, headers=headers)\n",
    "\n",
    "    # Check if the request was successful\n",
    "    if response.status_code == 201:\n",
    "        #TODO: CHANGE TO LOOOGGGG\n",
    "        print(f'Successfully created blog post: {title}')\n",
    "    else:\n",
    "        #TODO: CHANGE TO LOOOGGGG\n",
    "        print(f'Failed to create blog post: {title}')\n",
    "        print(f'Response status code: {response.status_code}')\n",
    "        print(f'Response content: {response.text}')\n",
    "        \n",
    "    return data_json"
   ]
  }
 ],
 "metadata": {
  "kernelspec": {
   "display_name": "Python 3 (ipykernel)",
   "language": "python",
   "name": "python3"
  },
  "language_info": {
   "codemirror_mode": {
    "name": "ipython",
    "version": 3
   },
   "file_extension": ".py",
   "mimetype": "text/x-python",
   "name": "python",
   "nbconvert_exporter": "python",
   "pygments_lexer": "ipython3",
   "version": "3.11.2"
  }
 },
 "nbformat": 4,
 "nbformat_minor": 5
}
